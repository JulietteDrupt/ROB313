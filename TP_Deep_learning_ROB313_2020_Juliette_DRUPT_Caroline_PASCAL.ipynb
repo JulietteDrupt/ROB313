{
  "nbformat": 4,
  "nbformat_minor": 0,
  "metadata": {
    "colab": {
      "name": "Copie de PyTorch_cifar10_tutorial_ROB313_2020.ipynb",
      "provenance": [],
      "collapsed_sections": [],
      "include_colab_link": true
    },
    "kernelspec": {
      "name": "python3",
      "display_name": "Python 3"
    },
    "accelerator": "GPU",
    "widgets": {
      "application/vnd.jupyter.widget-state+json": {
        "44e5e411e4b8486b95c6c4f139b9ae1d": {
          "model_module": "@jupyter-widgets/controls",
          "model_name": "HBoxModel",
          "state": {
            "_view_name": "HBoxView",
            "_dom_classes": [],
            "_model_name": "HBoxModel",
            "_view_module": "@jupyter-widgets/controls",
            "_model_module_version": "1.5.0",
            "_view_count": null,
            "_view_module_version": "1.5.0",
            "box_style": "",
            "layout": "IPY_MODEL_30bca7751c4e441883dd23c50ffdd631",
            "_model_module": "@jupyter-widgets/controls",
            "children": [
              "IPY_MODEL_46ad76e1b0124a4c8012bf65caaaffff",
              "IPY_MODEL_637c3c85f35a4bb6a7580f56ffcbdea0"
            ]
          }
        },
        "30bca7751c4e441883dd23c50ffdd631": {
          "model_module": "@jupyter-widgets/base",
          "model_name": "LayoutModel",
          "state": {
            "_view_name": "LayoutView",
            "grid_template_rows": null,
            "right": null,
            "justify_content": null,
            "_view_module": "@jupyter-widgets/base",
            "overflow": null,
            "_model_module_version": "1.2.0",
            "_view_count": null,
            "flex_flow": null,
            "width": null,
            "min_width": null,
            "border": null,
            "align_items": null,
            "bottom": null,
            "_model_module": "@jupyter-widgets/base",
            "top": null,
            "grid_column": null,
            "overflow_y": null,
            "overflow_x": null,
            "grid_auto_flow": null,
            "grid_area": null,
            "grid_template_columns": null,
            "flex": null,
            "_model_name": "LayoutModel",
            "justify_items": null,
            "grid_row": null,
            "max_height": null,
            "align_content": null,
            "visibility": null,
            "align_self": null,
            "height": null,
            "min_height": null,
            "padding": null,
            "grid_auto_rows": null,
            "grid_gap": null,
            "max_width": null,
            "order": null,
            "_view_module_version": "1.2.0",
            "grid_template_areas": null,
            "object_position": null,
            "object_fit": null,
            "grid_auto_columns": null,
            "margin": null,
            "display": null,
            "left": null
          }
        },
        "46ad76e1b0124a4c8012bf65caaaffff": {
          "model_module": "@jupyter-widgets/controls",
          "model_name": "IntProgressModel",
          "state": {
            "_view_name": "ProgressView",
            "style": "IPY_MODEL_f2b78b75dd16477c85aed1b07d6c2cdf",
            "_dom_classes": [],
            "description": "",
            "_model_name": "IntProgressModel",
            "bar_style": "success",
            "max": 1,
            "_view_module": "@jupyter-widgets/controls",
            "_model_module_version": "1.5.0",
            "value": 1,
            "_view_count": null,
            "_view_module_version": "1.5.0",
            "orientation": "horizontal",
            "min": 0,
            "description_tooltip": null,
            "_model_module": "@jupyter-widgets/controls",
            "layout": "IPY_MODEL_2cf59dc4f78541d3bdc7cbfbdca42251"
          }
        },
        "637c3c85f35a4bb6a7580f56ffcbdea0": {
          "model_module": "@jupyter-widgets/controls",
          "model_name": "HTMLModel",
          "state": {
            "_view_name": "HTMLView",
            "style": "IPY_MODEL_69f063d71aa5496d88e9731d6a6c4fc2",
            "_dom_classes": [],
            "description": "",
            "_model_name": "HTMLModel",
            "placeholder": "​",
            "_view_module": "@jupyter-widgets/controls",
            "_model_module_version": "1.5.0",
            "value": "170500096it [00:06, 27491236.58it/s]",
            "_view_count": null,
            "_view_module_version": "1.5.0",
            "description_tooltip": null,
            "_model_module": "@jupyter-widgets/controls",
            "layout": "IPY_MODEL_caf59dd0c4934f21861bf87c44041332"
          }
        },
        "f2b78b75dd16477c85aed1b07d6c2cdf": {
          "model_module": "@jupyter-widgets/controls",
          "model_name": "ProgressStyleModel",
          "state": {
            "_view_name": "StyleView",
            "_model_name": "ProgressStyleModel",
            "description_width": "",
            "_view_module": "@jupyter-widgets/base",
            "_model_module_version": "1.5.0",
            "_view_count": null,
            "_view_module_version": "1.2.0",
            "bar_color": null,
            "_model_module": "@jupyter-widgets/controls"
          }
        },
        "2cf59dc4f78541d3bdc7cbfbdca42251": {
          "model_module": "@jupyter-widgets/base",
          "model_name": "LayoutModel",
          "state": {
            "_view_name": "LayoutView",
            "grid_template_rows": null,
            "right": null,
            "justify_content": null,
            "_view_module": "@jupyter-widgets/base",
            "overflow": null,
            "_model_module_version": "1.2.0",
            "_view_count": null,
            "flex_flow": null,
            "width": null,
            "min_width": null,
            "border": null,
            "align_items": null,
            "bottom": null,
            "_model_module": "@jupyter-widgets/base",
            "top": null,
            "grid_column": null,
            "overflow_y": null,
            "overflow_x": null,
            "grid_auto_flow": null,
            "grid_area": null,
            "grid_template_columns": null,
            "flex": null,
            "_model_name": "LayoutModel",
            "justify_items": null,
            "grid_row": null,
            "max_height": null,
            "align_content": null,
            "visibility": null,
            "align_self": null,
            "height": null,
            "min_height": null,
            "padding": null,
            "grid_auto_rows": null,
            "grid_gap": null,
            "max_width": null,
            "order": null,
            "_view_module_version": "1.2.0",
            "grid_template_areas": null,
            "object_position": null,
            "object_fit": null,
            "grid_auto_columns": null,
            "margin": null,
            "display": null,
            "left": null
          }
        },
        "69f063d71aa5496d88e9731d6a6c4fc2": {
          "model_module": "@jupyter-widgets/controls",
          "model_name": "DescriptionStyleModel",
          "state": {
            "_view_name": "StyleView",
            "_model_name": "DescriptionStyleModel",
            "description_width": "",
            "_view_module": "@jupyter-widgets/base",
            "_model_module_version": "1.5.0",
            "_view_count": null,
            "_view_module_version": "1.2.0",
            "_model_module": "@jupyter-widgets/controls"
          }
        },
        "caf59dd0c4934f21861bf87c44041332": {
          "model_module": "@jupyter-widgets/base",
          "model_name": "LayoutModel",
          "state": {
            "_view_name": "LayoutView",
            "grid_template_rows": null,
            "right": null,
            "justify_content": null,
            "_view_module": "@jupyter-widgets/base",
            "overflow": null,
            "_model_module_version": "1.2.0",
            "_view_count": null,
            "flex_flow": null,
            "width": null,
            "min_width": null,
            "border": null,
            "align_items": null,
            "bottom": null,
            "_model_module": "@jupyter-widgets/base",
            "top": null,
            "grid_column": null,
            "overflow_y": null,
            "overflow_x": null,
            "grid_auto_flow": null,
            "grid_area": null,
            "grid_template_columns": null,
            "flex": null,
            "_model_name": "LayoutModel",
            "justify_items": null,
            "grid_row": null,
            "max_height": null,
            "align_content": null,
            "visibility": null,
            "align_self": null,
            "height": null,
            "min_height": null,
            "padding": null,
            "grid_auto_rows": null,
            "grid_gap": null,
            "max_width": null,
            "order": null,
            "_view_module_version": "1.2.0",
            "grid_template_areas": null,
            "object_position": null,
            "object_fit": null,
            "grid_auto_columns": null,
            "margin": null,
            "display": null,
            "left": null
          }
        }
      }
    }
  },
  "cells": [
    {
      "cell_type": "markdown",
      "metadata": {
        "id": "view-in-github",
        "colab_type": "text"
      },
      "source": [
        "<a href=\"https://colab.research.google.com/github/JulietteDrupt/ROB313/blob/master/TP_Deep_learning_ROB313_2020_Juliette_DRUPT_Caroline_PASCAL.ipynb\" target=\"_parent\"><img src=\"https://colab.research.google.com/assets/colab-badge.svg\" alt=\"Open In Colab\"/></a>"
      ]
    },
    {
      "cell_type": "markdown",
      "metadata": {
        "deletable": true,
        "editable": true,
        "id": "4zsDWUk5cavn",
        "colab_type": "text"
      },
      "source": [
        "# Deep Learning for Image Classification\n",
        "\n",
        "Welcome to deep learning for image classification tutorial!\n",
        "**In this notebook, you will**:\n",
        "- Learn the basics of PyTorch, a powerful but easy to use package for scientific computing (and deep learning)\n",
        "- Learn how to build and train a convolutional neural network for image classification.\n",
        "\n",
        "If you have never used jupyter notebooks, nor Colab notebooks, [here](https://colab.research.google.com/notebooks/welcome.ipynb) is a short intro.\n",
        "\n",
        "\n",
        "## I. PyTorch Tutorial\n",
        "\n",
        "We will briefly go through the basics of the PyTorch package, playing with toy examples.\n",
        "\n",
        "If you know already how to use PyTorch, then you can directly go to the second part of this tutorial\n",
        "\n",
        "## II. Training a classifier\n",
        "\n",
        "In this part, we will train a Convolutional Neural Network to classify images of 10 different classes (dogs, cats, car, ...) and see how our model performs on the test set.  \n",
        "\n",
        "\n",
        "## III. Exploring CNN Architectures\n",
        "\n",
        "This is the part where you get your hands dirty ;). Your mission is to experiment different CNN architectures and set hyperparameters in order to obtain the best accuracy on the test set!\n"
      ]
    },
    {
      "cell_type": "markdown",
      "metadata": {
        "id": "JgRltjas9PpN",
        "colab_type": "text"
      },
      "source": [
        "The following command sets the backend of matplotlib to the 'inline' backend so that the output of plotting commands is displayed inline within frontends like the Jupyter notebook, directly below the code cell that produced it:"
      ]
    },
    {
      "cell_type": "code",
      "metadata": {
        "colab_type": "code",
        "deletable": true,
        "editable": true,
        "id": "GkjN23FKt2D-",
        "colab": {}
      },
      "source": [
        "%matplotlib inline"
      ],
      "execution_count": 0,
      "outputs": []
    },
    {
      "cell_type": "markdown",
      "metadata": {
        "id": "YAz-fhRRdFaR",
        "colab_type": "text"
      },
      "source": [
        "### Plotting functions and useful imports\n",
        "\n",
        "You can skip this part"
      ]
    },
    {
      "cell_type": "code",
      "metadata": {
        "id": "nnee2WPudA9K",
        "colab_type": "code",
        "colab": {}
      },
      "source": [
        "# Python 2/3 compatibility\n",
        "from __future__ import print_function, division\n",
        "\n",
        "import itertools\n",
        "import time\n",
        "\n",
        "\n",
        "import numpy as np\n",
        "import matplotlib.pyplot as plt\n",
        "\n",
        "# Colors from Colorbrewer Paired_12\n",
        "colors = [[31, 120, 180], [51, 160, 44]]\n",
        "colors = [(r / 255, g / 255, b / 255) for (r, g, b) in colors]\n",
        "\n",
        "# functions to show an image\n",
        "def imshow(img):\n",
        "    \"\"\"\n",
        "    :param img: (PyTorch Tensor)\n",
        "    \"\"\"\n",
        "    # unnormalize\n",
        "    img = img / 2 + 0.5     \n",
        "    # Convert tensor to numpy array\n",
        "    npimg = img.numpy()\n",
        "    # Color channel first -> color channel last\n",
        "    plt.imshow(np.transpose(npimg, (1, 2, 0)))\n",
        "\n",
        "\n",
        "\n",
        "def plot_losses(train_history, val_history):\n",
        "    x = np.arange(1, len(train_history) + 1)\n",
        "\n",
        "    plt.figure(figsize=(8, 6))\n",
        "    plt.plot(x, train_history, color=colors[0], label=\"Training loss\", linewidth=2)\n",
        "    plt.plot(x, val_history, color=colors[1], label=\"Validation loss\", linewidth=2)\n",
        "    plt.xlabel('Epoch')\n",
        "    plt.ylabel('Loss')\n",
        "    plt.legend(loc='upper right')\n",
        "    plt.title(\"Evolution of the training and validation loss\")\n",
        "    plt.show()\n",
        "\n",
        "def plot_confusion_matrix(cm, classes,\n",
        "                          normalize=False,\n",
        "                          title='Confusion matrix',\n",
        "                          cmap=plt.cm.Blues):\n",
        "    \"\"\"\n",
        "    This function prints and plots the confusion matrix.\n",
        "    Normalization can be applied by setting `normalize=True`.\n",
        "    from http://scikit-learn.org/stable/auto_examples/model_selection/plot_confusion_matrix.html\n",
        "    :param cm: (numpy matrix) confusion matrix\n",
        "    :param classes: [str]\n",
        "    :param normalize: (bool)\n",
        "    :param title: (str)\n",
        "    :param cmap: (matplotlib color map)\n",
        "    \"\"\"\n",
        "    if normalize:\n",
        "        cm = cm.astype('float') / cm.sum(axis=1)[:, np.newaxis]\n",
        "        \n",
        "    plt.figure(figsize=(8, 8))   \n",
        "    plt.imshow(cm, interpolation='nearest', cmap=cmap)\n",
        "    plt.title(title)\n",
        "    plt.colorbar()\n",
        "    tick_marks = np.arange(len(classes))\n",
        "    plt.xticks(tick_marks, classes, rotation=45)\n",
        "    plt.yticks(tick_marks, classes)\n",
        "\n",
        "    fmt = '.2f' if normalize else 'd'\n",
        "    thresh = cm.max() / 2.\n",
        "    for i, j in itertools.product(range(cm.shape[0]), range(cm.shape[1])):\n",
        "        plt.text(j, i, format(cm[i, j], fmt),\n",
        "                 horizontalalignment=\"center\",\n",
        "                 color=\"white\" if cm[i, j] > thresh else \"black\")\n",
        "\n",
        "    plt.tight_layout()\n",
        "    plt.ylabel('True label')\n",
        "    plt.xlabel('Predicted label')"
      ],
      "execution_count": 0,
      "outputs": []
    },
    {
      "cell_type": "markdown",
      "metadata": {
        "deletable": true,
        "editable": true,
        "id": "aH_K9V7icav6",
        "colab_type": "text"
      },
      "source": [
        "# I. What is PyTorch ?\n",
        "\n",
        "It’s a Python based scientific computing package targeted at two sets of audiences:\n",
        "\n",
        "- A replacement for numpy to use the power of GPUs\n",
        "- A deep learning research platform that provides maximum flexibility and speed\n",
        "\n",
        "\n",
        "## PyTorch Basics\n",
        "\n",
        "In the next steps, we will briefly see how to use PyTorch and exploit its power:\n",
        "\n",
        "1. PyTorch Installation\n",
        "2. PyTorch Tensors\n",
        "3. Numpy Bridge\n",
        "4. Automatic differentiation\n",
        "5. PyTorch and GPU (CUDA support)\n",
        "\n",
        "\n",
        "### 1. Install PyTorch and Torchvision\n",
        "\n"
      ]
    },
    {
      "cell_type": "code",
      "metadata": {
        "id": "e0y5PLM6ciB5",
        "colab_type": "code",
        "outputId": "4ae4a683-8b1c-4c40-d40b-0656b9ac8a7f",
        "colab": {
          "base_uri": "https://localhost:8080/",
          "height": 419
        }
      },
      "source": [
        "!pip install http://download.pytorch.org/whl/cu92/torch-0.4.1-cp36-cp36m-linux_x86_64.whl\n",
        "!pip install torchvision"
      ],
      "execution_count": 0,
      "outputs": [
        {
          "output_type": "stream",
          "text": [
            "Collecting torch==0.4.1\n",
            "\u001b[?25l  Downloading http://download.pytorch.org/whl/cu92/torch-0.4.1-cp36-cp36m-linux_x86_64.whl (512.6MB)\n",
            "\u001b[K     |████████████████████████████████| 512.6MB 58.5MB/s \n",
            "\u001b[31mERROR: torchvision 0.5.0 has requirement torch==1.4.0, but you'll have torch 0.4.1 which is incompatible.\u001b[0m\n",
            "\u001b[31mERROR: fastai 1.0.60 has requirement torch>=1.0.0, but you'll have torch 0.4.1 which is incompatible.\u001b[0m\n",
            "\u001b[?25hInstalling collected packages: torch\n",
            "  Found existing installation: torch 1.4.0\n",
            "    Uninstalling torch-1.4.0:\n",
            "      Successfully uninstalled torch-1.4.0\n",
            "Successfully installed torch-0.4.1\n",
            "Requirement already satisfied: torchvision in /usr/local/lib/python3.6/dist-packages (0.5.0)\n",
            "Requirement already satisfied: pillow>=4.1.1 in /usr/local/lib/python3.6/dist-packages (from torchvision) (6.2.2)\n",
            "Requirement already satisfied: numpy in /usr/local/lib/python3.6/dist-packages (from torchvision) (1.17.5)\n",
            "Requirement already satisfied: six in /usr/local/lib/python3.6/dist-packages (from torchvision) (1.12.0)\n",
            "Collecting torch==1.4.0\n",
            "\u001b[?25l  Downloading https://files.pythonhosted.org/packages/24/19/4804aea17cd136f1705a5e98a00618cb8f6ccc375ad8bfa437408e09d058/torch-1.4.0-cp36-cp36m-manylinux1_x86_64.whl (753.4MB)\n",
            "\u001b[K     |████████████████████████████████| 753.4MB 16kB/s \n",
            "\u001b[?25hInstalling collected packages: torch\n",
            "  Found existing installation: torch 0.4.1\n",
            "    Uninstalling torch-0.4.1:\n",
            "      Successfully uninstalled torch-0.4.1\n",
            "Successfully installed torch-1.4.0\n"
          ],
          "name": "stdout"
        }
      ]
    },
    {
      "cell_type": "code",
      "metadata": {
        "deletable": true,
        "editable": true,
        "id": "LcGVaagRcav8",
        "colab_type": "code",
        "colab": {}
      },
      "source": [
        "import numpy as np\n",
        "# Import torch and create the alias \"th\"\n",
        "# instead of writing torch.name_of_a_method() , we only need to write th.name_of_a_method()\n",
        "# (similarly to numpy imported as np)\n",
        "import torch as th"
      ],
      "execution_count": 0,
      "outputs": []
    },
    {
      "cell_type": "code",
      "metadata": {
        "deletable": true,
        "editable": true,
        "id": "g2-brDDHcawE",
        "colab_type": "code",
        "outputId": "423b320f-6c8d-4b88-8e3d-b703e81b3605",
        "colab": {
          "base_uri": "https://localhost:8080/",
          "height": 69
        }
      },
      "source": [
        "# Create tensor of ones (FloatTensor by default)\n",
        "ones = th.ones(3, 2)\n",
        "print(ones)"
      ],
      "execution_count": 0,
      "outputs": [
        {
          "output_type": "stream",
          "text": [
            "tensor([[1., 1.],\n",
            "        [1., 1.],\n",
            "        [1., 1.]])\n"
          ],
          "name": "stdout"
        }
      ]
    },
    {
      "cell_type": "markdown",
      "metadata": {
        "deletable": true,
        "editable": true,
        "id": "6RvPibnScawC",
        "colab_type": "text"
      },
      "source": [
        "### 2. PyTorch Tensors\n",
        "\n",
        "A `torch.Tensor` is a multi-dimensional matrix containing elements of a single data type.\n",
        "\n",
        "Tensors are similar to numpy’s ndarrays, but they have a super-power: Tensors can also be used on a GPU to accelerate computing."
      ]
    },
    {
      "cell_type": "markdown",
      "metadata": {
        "deletable": true,
        "editable": true,
        "id": "QcJgJQERcawQ",
        "colab_type": "text"
      },
      "source": [
        "#### Tensor Shape\n",
        "To know the shape of a given tensor, you can use the `.size()` method (the numpy equivalent is `.shape`)"
      ]
    },
    {
      "cell_type": "code",
      "metadata": {
        "deletable": true,
        "editable": true,
        "id": "SI96-W9acawS",
        "colab_type": "code",
        "outputId": "978d6204-a342-4a4f-f87c-68e1c15f390d",
        "colab": {
          "base_uri": "https://localhost:8080/",
          "height": 35
        }
      },
      "source": [
        "# Display the shape of a tensor\n",
        "# it can be used as a tuple\n",
        "print(\"Tensor Shape: {}\".format(ones.size()))"
      ],
      "execution_count": 0,
      "outputs": [
        {
          "output_type": "stream",
          "text": [
            "Tensor Shape: torch.Size([3, 2])\n"
          ],
          "name": "stdout"
        }
      ]
    },
    {
      "cell_type": "markdown",
      "metadata": {
        "deletable": true,
        "editable": true,
        "id": "pUPWrNarcawZ",
        "colab_type": "text"
      },
      "source": [
        "#### Reshape tensors\n",
        "\n",
        "To reshape tensors (e.g. flatten a 3D tensor to a 1D array), you can use the `.view()` method:\n",
        "\n",
        "- **x.view(new_shape)**: Returns a new tensor with the same data but different size. It is the equivalent of numpy function *reshape* (Gives a new shape to an array without changing its data.). You can read the full documentation [here.](http://pytorch.org/docs/master/tensors.html#torch.Tensor.view)\n",
        "\n",
        "[WARNING] when precising a new shape, you have to make sure that the number of elements is constant.\n",
        "For example, a 2D matrix of size 3x3 can only be viewed as a 1D array of size $3 \\cdot 3 = 9$"
      ]
    },
    {
      "cell_type": "code",
      "metadata": {
        "deletable": true,
        "editable": true,
        "id": "vX-oxI6Vcawb",
        "colab_type": "code",
        "outputId": "17697e4d-0782-42b1-f6aa-0cd836fd0a20",
        "colab": {
          "base_uri": "https://localhost:8080/",
          "height": 69
        }
      },
      "source": [
        "# Create a 3D tensor of size 3x2x2\n",
        "zeros_3d_tensor = th.zeros(3, 2, 2)\n",
        "print(\"Original size:\", zeros_3d_tensor.size())\n",
        "\n",
        "# Reshape it to a 1D array of size 3*2*2 = 12\n",
        "zeros_1d_array = zeros_3d_tensor.view(3 * 2 * 2)\n",
        "print(\"Reshaped tensor:\", zeros_1d_array.size())\n",
        "\n",
        "\n",
        "# Let's view our original tensor as a 2D matrix\n",
        "# If you want PyTorch to guess one remaining dimension,\n",
        "# you specify '-1' instead of the actual size\n",
        "zeros_2d_matrix = zeros_3d_tensor.view(-1, 2 * 2)\n",
        "\n",
        "print(\"Matrix shape:\", zeros_2d_matrix.size())"
      ],
      "execution_count": 0,
      "outputs": [
        {
          "output_type": "stream",
          "text": [
            "Original size: torch.Size([3, 2, 2])\n",
            "Reshaped tensor: torch.Size([12])\n",
            "Matrix shape: torch.Size([3, 4])\n"
          ],
          "name": "stdout"
        }
      ]
    },
    {
      "cell_type": "markdown",
      "metadata": {
        "deletable": true,
        "editable": true,
        "id": "kTO_FFswcawj",
        "colab_type": "text"
      },
      "source": [
        "#### Basic Operations on tensors\n",
        "\n",
        "Tensor support all basic linear algebra operations. You can read the full documentation [here](http://pytorch.org/docs/master/tensors.html)"
      ]
    },
    {
      "cell_type": "code",
      "metadata": {
        "deletable": true,
        "editable": true,
        "id": "Ay7LvYeVcawl",
        "colab_type": "code",
        "outputId": "950d248a-b078-4cb7-8a2e-691dcc3e18fb",
        "colab": {
          "base_uri": "https://localhost:8080/",
          "height": 69
        }
      },
      "source": [
        "2 * ones + 1"
      ],
      "execution_count": 0,
      "outputs": [
        {
          "output_type": "execute_result",
          "data": {
            "text/plain": [
              "tensor([[3., 3.],\n",
              "        [3., 3.],\n",
              "        [3., 3.]])"
            ]
          },
          "metadata": {
            "tags": []
          },
          "execution_count": 8
        }
      ]
    },
    {
      "cell_type": "markdown",
      "metadata": {
        "deletable": true,
        "editable": true,
        "id": "OD7ZOT4jcaws",
        "colab_type": "text"
      },
      "source": [
        "PyTorch tensors also supports numpy indexing:"
      ]
    },
    {
      "cell_type": "code",
      "metadata": {
        "deletable": true,
        "editable": true,
        "id": "srzDzj_ocawu",
        "colab_type": "code",
        "outputId": "c42a2b8f-42e9-46fc-9cf1-196ee9cbb54d",
        "colab": {
          "base_uri": "https://localhost:8080/",
          "height": 69
        }
      },
      "source": [
        "print(\"\\n Indexing Demo:\")\n",
        "print(ones[:, 1])"
      ],
      "execution_count": 0,
      "outputs": [
        {
          "output_type": "stream",
          "text": [
            "\n",
            " Indexing Demo:\n",
            "tensor([1., 1., 1.])\n"
          ],
          "name": "stdout"
        }
      ]
    },
    {
      "cell_type": "markdown",
      "metadata": {
        "deletable": true,
        "editable": true,
        "id": "xrjqKguqcaw0",
        "colab_type": "text"
      },
      "source": [
        "### 3. Numpy Bridge\n",
        "WARNING: PyTorch Tensors are different from numpy arrays\n",
        "even if they have a lot in common\n",
        "\n",
        "Though, it is **easy with PyTorch to tranform Tensors to Numpy arrays and vice versa**"
      ]
    },
    {
      "cell_type": "markdown",
      "metadata": {
        "deletable": true,
        "editable": true,
        "id": "gVAntrTVcaw3",
        "colab_type": "text"
      },
      "source": [
        "#### Numpy <-> PyTorch\n",
        "\n",
        "Creating PyTorch tensors from numpy array is done via the `torch.from_numpy()` function  \n",
        "(here `th.from_numpy()` because we renamed *torch* as *th*)\n",
        "\n",
        "To transform a PyTorch tensor to a numpy array, you can simply call `.numpy()` method."
      ]
    },
    {
      "cell_type": "code",
      "metadata": {
        "deletable": true,
        "editable": true,
        "id": "t2ENcAKOcaw5",
        "colab_type": "code",
        "outputId": "a490ccf3-3950-478c-f3db-0e68f3a02173",
        "colab": {
          "base_uri": "https://localhost:8080/",
          "height": 121
        }
      },
      "source": [
        "# np.float32 -> th.FloatTensor\n",
        "ones_matrix = np.ones((2, 2), dtype=np.float32)\n",
        "\n",
        "# the matrix is passed by reference:\n",
        "# if we modify the original numpy array, the tensor is also edited\n",
        "ones_tensor = th.from_numpy(ones_matrix)\n",
        "# Convert back to a numpy matrix\n",
        "numpy_matrix = ones_tensor.numpy()\n",
        "\n",
        "print(\"PyTorch Tensor:\")\n",
        "print(ones_tensor)\n",
        "\n",
        "print(\"Numpy Matrix:\")\n",
        "print(numpy_matrix)"
      ],
      "execution_count": 0,
      "outputs": [
        {
          "output_type": "stream",
          "text": [
            "PyTorch Tensor:\n",
            "tensor([[1., 1.],\n",
            "        [1., 1.]])\n",
            "Numpy Matrix:\n",
            "[[1. 1.]\n",
            " [1. 1.]]\n"
          ],
          "name": "stdout"
        }
      ]
    },
    {
      "cell_type": "markdown",
      "metadata": {
        "deletable": true,
        "editable": true,
        "id": "Y0Itjyg-caxD",
        "colab_type": "text"
      },
      "source": [
        "### 4. Automatic Differentiation\n",
        "\n",
        "Pytorch tensors allow to **automatically compute gradients**. That is particulary useful for backpropagation.\n",
        "\n",
        "Once you finish your computation you can call `.backward()` and have all the gradients computed automatically.\n",
        "\n",
        "You can access the gradient w.r.t. this variable using `.grad`.\n"
      ]
    },
    {
      "cell_type": "code",
      "metadata": {
        "deletable": true,
        "editable": true,
        "id": "WrPNcIpYcaxK",
        "colab_type": "code",
        "outputId": "0e556225-c65a-4846-9c67-1e04ddacb178",
        "colab": {
          "base_uri": "https://localhost:8080/",
          "height": 52
        }
      },
      "source": [
        "# We need to specify that we want to compute the gradient\n",
        "# as it requires extra memory and computation\n",
        "ones_tensor = th.ones(2,2, requires_grad=True)\n",
        "\n",
        "print(ones_tensor)"
      ],
      "execution_count": 0,
      "outputs": [
        {
          "output_type": "stream",
          "text": [
            "tensor([[1., 1.],\n",
            "        [1., 1.]], requires_grad=True)\n"
          ],
          "name": "stdout"
        }
      ]
    },
    {
      "cell_type": "markdown",
      "metadata": {
        "deletable": true,
        "editable": true,
        "id": "IEZDUibxcaxj",
        "colab_type": "text"
      },
      "source": [
        "To demonstrate the use of PyTorch Variable,\n",
        "let's define a simple linear transformation of a variable $x$ :\n",
        "\n",
        "$$y = a \\cdot x + b$$\n",
        "\n",
        "PyTorch will allows us to automatically compute $$\\frac{dy}{dx} $$"
      ]
    },
    {
      "cell_type": "code",
      "metadata": {
        "deletable": true,
        "editable": true,
        "id": "A4j85JjZcaxl",
        "colab_type": "code",
        "outputId": "15c23045-4acb-45ac-b143-4e71d316ae65",
        "colab": {
          "base_uri": "https://localhost:8080/",
          "height": 35
        }
      },
      "source": [
        "# Create a tensor and tell PyTorch\n",
        "# that we want to compute the gradient\n",
        "x = th.ones(1, requires_grad=True)\n",
        "\n",
        "# Transformation constants\n",
        "a = 2\n",
        "b = 5\n",
        "\n",
        "# Define the tranformation and store the result\n",
        "# in a new variable\n",
        "y = a * x + b\n",
        "\n",
        "print(y)"
      ],
      "execution_count": 0,
      "outputs": [
        {
          "output_type": "stream",
          "text": [
            "tensor([7.], grad_fn=<AddBackward0>)\n"
          ],
          "name": "stdout"
        }
      ]
    },
    {
      "cell_type": "markdown",
      "metadata": {
        "deletable": true,
        "editable": true,
        "id": "_mxnlvwxcaxq",
        "colab_type": "text"
      },
      "source": [
        "Let's backprop!"
      ]
    },
    {
      "cell_type": "code",
      "metadata": {
        "deletable": true,
        "editable": true,
        "id": "X1i-pN-Fcaxs",
        "colab_type": "code",
        "colab": {}
      },
      "source": [
        "y.backward()"
      ],
      "execution_count": 0,
      "outputs": []
    },
    {
      "cell_type": "markdown",
      "metadata": {
        "deletable": true,
        "editable": true,
        "id": "skgIGZdmcaxw",
        "colab_type": "text"
      },
      "source": [
        "`x.grad` prints the gradient:\n",
        "\n",
        "$$\\frac{dy}{dx} = a$$\n",
        "\n",
        "because:\n",
        "\n",
        "$$y = a \\cdot x + b$$"
      ]
    },
    {
      "cell_type": "code",
      "metadata": {
        "deletable": true,
        "editable": true,
        "id": "_TYbuwsXcaxx",
        "colab_type": "code",
        "outputId": "af7434f3-4e84-42f2-fc60-be739d69b461",
        "colab": {
          "base_uri": "https://localhost:8080/",
          "height": 35
        }
      },
      "source": [
        "x.grad"
      ],
      "execution_count": 0,
      "outputs": [
        {
          "output_type": "execute_result",
          "data": {
            "text/plain": [
              "tensor([2.])"
            ]
          },
          "metadata": {
            "tags": []
          },
          "execution_count": 14
        }
      ]
    },
    {
      "cell_type": "markdown",
      "metadata": {
        "deletable": true,
        "editable": true,
        "id": "ggu-PBGvcax3",
        "colab_type": "text"
      },
      "source": [
        "You can now change the values of $a$ and $b$ see their effects on the gradient\n",
        "(HINT: `x.grad` only depends on the value of `a`)"
      ]
    },
    {
      "cell_type": "markdown",
      "metadata": {
        "deletable": true,
        "editable": true,
        "id": "8iPn0C59cax5",
        "colab_type": "text"
      },
      "source": [
        "### 5. PyTorch and GPU (CUDA support)\n",
        "\n",
        "Google colab provides a CUDA enabled GPU, so we are going to use its power. \n",
        "You can move tensor to the GPU by simply using the `to()` method.\n",
        "Otherwise, PyTorch will use the CPU.\n",
        "\n",
        "Here, we will demonstrate the usefulness of the GPU on a simple matrix multiplication:"
      ]
    },
    {
      "cell_type": "code",
      "metadata": {
        "id": "EwF6ePTpeefQ",
        "colab_type": "code",
        "outputId": "96d502e7-a6f0-49dd-b265-d3597a272dbc",
        "colab": {
          "base_uri": "https://localhost:8080/",
          "height": 52
        }
      },
      "source": [
        "if th.cuda.is_available():\n",
        "  # Create tensors\n",
        "  x = th.ones(1000, 1000)\n",
        "  y = 2 * x + 3\n",
        "  # Do the calculation on cpu (default)\n",
        "  start_time = time.time()\n",
        "  # Matrix multiplication (for benchmark purpose)\n",
        "  results = th.mm(x, y)\n",
        "  time_cpu = time.time() - start_time\n",
        "  \n",
        "  # Do the same calculation but on the gpu\n",
        "  # First move tensors to gpu\n",
        "  x = x.to(\"cuda\")\n",
        "  y = y.to(\"cuda\")\n",
        "  start_time = time.time()\n",
        "  # Matrix multiplication (for benchmark purpose)\n",
        "  results = th.mm(x, y)\n",
        "  time_gpu = time.time() - start_time\n",
        "  \n",
        "  print(\"Time on CPU: {:.5f}s \\t Time on GPU: {:.5f}s\".format(time_cpu, time_gpu))\n",
        "  print(\"Speed up: Computation was {:.0f}X faster on GPU!\".format(time_cpu / time_gpu))\n",
        "  \n",
        "else:\n",
        "  print(\"You need to enable GPU accelaration in colab (runtime->change runtime type)\")"
      ],
      "execution_count": 0,
      "outputs": [
        {
          "output_type": "stream",
          "text": [
            "Time on CPU: 0.03360s \t Time on GPU: 0.00143s\n",
            "Speed up: Computation was 24X faster on GPU!\n"
          ],
          "name": "stdout"
        }
      ]
    },
    {
      "cell_type": "markdown",
      "metadata": {
        "id": "E-AOzDy9lFwi",
        "colab_type": "text"
      },
      "source": [
        "As expected, matrix multiplication is way faster on a GPU, so we'd better use it."
      ]
    },
    {
      "cell_type": "markdown",
      "metadata": {
        "colab_type": "text",
        "deletable": true,
        "editable": true,
        "id": "0kqEBjG6t2Eh"
      },
      "source": [
        "\n",
        "# II. Training a classifier\n",
        "\n",
        "\n",
        "For this tutorial, we will use the CIFAR10 dataset.\n",
        "There are 10 classes: ‘airplane’, ‘automobile’, ‘bird’, ‘cat’, ‘deer’,\n",
        "‘dog’, ‘frog’, ‘horse’, ‘ship’, ‘truck’. The images in CIFAR-10 are of\n",
        "size 3x32x32, i.e. 3-channel color images of 32x32 pixels in size.\n",
        "\n",
        "\n",
        "![CIFAR10](http://pytorch.org/tutorials/_images/cifar10.png)\n",
        "\n",
        "\n",
        "Training an image classifier\n",
        "----------------------------\n",
        "\n",
        "We will do the following steps in order:\n",
        "\n",
        "1. Load and normalize the CIFAR10 training and test datasets using\n",
        "   ``torchvision``\n",
        "2. Define a Convolution Neural Network\n",
        "3. Define a loss function\n",
        "4. Train the network on the training data\n",
        "5. Test the network on the test data"
      ]
    },
    {
      "cell_type": "markdown",
      "metadata": {
        "deletable": true,
        "editable": true,
        "id": "UWTdj2uYcax7",
        "colab_type": "text"
      },
      "source": [
        "### 1. Loading and normalizing CIFAR10 Dataset\n",
        "\n",
        "Using ``torchvision``, it’s extremely easy to load CIFAR10."
      ]
    },
    {
      "cell_type": "code",
      "metadata": {
        "colab_type": "code",
        "deletable": true,
        "editable": true,
        "id": "KRrvrIi0t2Em",
        "colab": {}
      },
      "source": [
        "import torch\n",
        "import torchvision\n",
        "import torchvision.transforms as transforms"
      ],
      "execution_count": 0,
      "outputs": []
    },
    {
      "cell_type": "markdown",
      "metadata": {
        "deletable": true,
        "editable": true,
        "id": "iX2ltR_zcayA",
        "colab_type": "text"
      },
      "source": [
        "Seed the random generator to have reproducible results:"
      ]
    },
    {
      "cell_type": "code",
      "metadata": {
        "deletable": true,
        "editable": true,
        "id": "335xvR6acayB",
        "colab_type": "code",
        "colab": {}
      },
      "source": [
        "seed = 42\n",
        "np.random.seed(seed)\n",
        "torch.manual_seed(seed)\n",
        "\n",
        "if th.cuda.is_available():\n",
        "  # Make CuDNN Determinist\n",
        "  th.backends.cudnn.deterministic = True\n",
        "  th.cuda.manual_seed(seed)\n",
        "\n",
        "# Define default device, we should use the GPU (cuda) if available\n",
        "device = th.device(\"cuda\" if th.cuda.is_available() else \"cpu\")\n"
      ],
      "execution_count": 0,
      "outputs": []
    },
    {
      "cell_type": "markdown",
      "metadata": {
        "deletable": true,
        "editable": true,
        "id": "7EzIeyD4cayG",
        "colab_type": "text"
      },
      "source": [
        "### Define subset of the dataset (so it is faster to train)"
      ]
    },
    {
      "cell_type": "code",
      "metadata": {
        "deletable": true,
        "editable": true,
        "id": "Nwu-wWh3cayI",
        "colab_type": "code",
        "colab": {}
      },
      "source": [
        "from torch.utils.data.sampler import SubsetRandomSampler\n",
        "\n",
        "n_training_samples = 40000 # Max: 50 000 - n_val_samples\n",
        "n_val_samples = 5000\n",
        "n_test_samples = 5000\n",
        "\n",
        "train_sampler = SubsetRandomSampler(np.arange(n_training_samples, dtype=np.int64))\n",
        "val_sampler = SubsetRandomSampler(np.arange(n_training_samples, n_training_samples + n_val_samples, dtype=np.int64))\n",
        "test_sampler = SubsetRandomSampler(np.arange(n_test_samples, dtype=np.int64))\n",
        "# (In the last case, indexes do not need to account for training ones because the train=False parameter in datasets.CIFAR will select from the test set)"
      ],
      "execution_count": 0,
      "outputs": []
    },
    {
      "cell_type": "markdown",
      "metadata": {
        "colab_type": "text",
        "deletable": true,
        "editable": true,
        "id": "evFXNmbst2Ez"
      },
      "source": [
        "The output of torchvision datasets are PILImage images of range [0, 1].\n",
        "We transform them to Tensors of normalized range [-1, 1]\n",
        "\n"
      ]
    },
    {
      "cell_type": "code",
      "metadata": {
        "colab_type": "code",
        "deletable": true,
        "editable": true,
        "id": "ZJ-hYN00t2E2",
        "outputId": "ba11be23-d31a-4d43-a638-e8dea0fcaeb7",
        "colab": {
          "base_uri": "https://localhost:8080/",
          "height": 119,
          "referenced_widgets": [
            "44e5e411e4b8486b95c6c4f139b9ae1d",
            "30bca7751c4e441883dd23c50ffdd631",
            "46ad76e1b0124a4c8012bf65caaaffff",
            "637c3c85f35a4bb6a7580f56ffcbdea0",
            "f2b78b75dd16477c85aed1b07d6c2cdf",
            "2cf59dc4f78541d3bdc7cbfbdca42251",
            "69f063d71aa5496d88e9731d6a6c4fc2",
            "caf59dd0c4934f21861bf87c44041332"
          ]
        }
      },
      "source": [
        "num_workers = 2\n",
        "test_batch_size = 4\n",
        "\n",
        "transform = transforms.Compose(\n",
        "    [transforms.ToTensor(),\n",
        "     transforms.Normalize(mean=(0.5, 0.5, 0.5), std=(0.5, 0.5, 0.5))])\n",
        "\n",
        "train_set = torchvision.datasets.CIFAR10(root='./data', train=True,\n",
        "                                        download=True, transform=transform)\n",
        "\n",
        "train_loader = torch.utils.data.DataLoader(train_set, batch_size=test_batch_size, sampler=train_sampler,\n",
        "                                          num_workers=num_workers)\n",
        "\n",
        "test_set = torchvision.datasets.CIFAR10(root='./data', train=False,\n",
        "                                       download=True, transform=transform)\n",
        "test_loader = torch.utils.data.DataLoader(test_set, batch_size=test_batch_size, sampler=test_sampler,\n",
        "                                         num_workers=num_workers)\n",
        "\n",
        "classes = ('plane', 'car', 'bird', 'cat',\n",
        "           'deer', 'dog', 'frog', 'horse', 'ship', 'truck')"
      ],
      "execution_count": 0,
      "outputs": [
        {
          "output_type": "stream",
          "text": [
            "Downloading https://www.cs.toronto.edu/~kriz/cifar-10-python.tar.gz to ./data/cifar-10-python.tar.gz\n"
          ],
          "name": "stdout"
        },
        {
          "output_type": "display_data",
          "data": {
            "application/vnd.jupyter.widget-view+json": {
              "model_id": "44e5e411e4b8486b95c6c4f139b9ae1d",
              "version_minor": 0,
              "version_major": 2
            },
            "text/plain": [
              "HBox(children=(IntProgress(value=1, bar_style='info', max=1), HTML(value='')))"
            ]
          },
          "metadata": {
            "tags": []
          }
        },
        {
          "output_type": "stream",
          "text": [
            "\n",
            "Extracting ./data/cifar-10-python.tar.gz to ./data\n",
            "Files already downloaded and verified\n"
          ],
          "name": "stdout"
        }
      ]
    },
    {
      "cell_type": "markdown",
      "metadata": {
        "colab_type": "text",
        "deletable": true,
        "editable": true,
        "id": "cGWVnBOft2FI"
      },
      "source": [
        "Let us show some of the training images, for fun.\n",
        "\n"
      ]
    },
    {
      "cell_type": "code",
      "metadata": {
        "colab_type": "code",
        "deletable": true,
        "editable": true,
        "id": "68OfC35ut2FM",
        "outputId": "3086823d-3a6f-4e6b-ce2e-d8edb52539d3",
        "colab": {
          "base_uri": "https://localhost:8080/",
          "height": 155
        }
      },
      "source": [
        "# get some random training images\n",
        "dataiter = iter(train_loader)\n",
        "images, labels = dataiter.next()\n",
        "\n",
        "# show images\n",
        "imshow(torchvision.utils.make_grid(images))\n",
        "# print labels\n",
        "print(' '.join('{:>10}'.format(classes[labels[j]]) for j in range(test_batch_size)))"
      ],
      "execution_count": 0,
      "outputs": [
        {
          "output_type": "stream",
          "text": [
            "     horse        cat        cat      horse\n"
          ],
          "name": "stdout"
        },
        {
          "output_type": "display_data",
          "data": {
            "image/png": "[encoded data removed]",
            "text/plain": [
              "<Figure size 432x288 with 1 Axes>"
            ]
          },
          "metadata": {
            "tags": []
          }
        }
      ]
    },
    {
      "cell_type": "markdown",
      "metadata": {
        "colab_type": "text",
        "deletable": true,
        "editable": true,
        "id": "8ULHEu5Zt2Fa"
      },
      "source": [
        "### 2. Define a Convolution Neural Network\n"
      ]
    },
    {
      "cell_type": "code",
      "metadata": {
        "deletable": true,
        "editable": true,
        "id": "6k6rJyTTcayi",
        "colab_type": "code",
        "colab": {}
      },
      "source": [
        "# Useful imports\n",
        "import torch.nn as nn\n",
        "import torch.nn.functional as F"
      ],
      "execution_count": 0,
      "outputs": []
    },
    {
      "cell_type": "markdown",
      "metadata": {
        "colab_type": "text",
        "deletable": true,
        "editable": true,
        "id": "0JcmlEe8t2Fe"
      },
      "source": [
        "####  Forward propagation\n",
        "\n",
        "In PyTorch, there are built-in functions that carry out the convolution steps for you.\n",
        "\n",
        "- **nn.Conv2d(in_channels, out_channels, kernel_size, stride=1, padding=0):** Convolution layer. You can read the full documentation [here](http://pytorch.org/docs/master/nn.html#conv2d)\n",
        "\n",
        "- **nn.MaxPool2d(kernel_size, stride=None, padding=0):** Max pooling layer. You can read the full documentation [here](http://pytorch.org/docs/master/nn.html#maxpool2d)\n",
        "\n",
        "- **F.relu(Z1):** computes the elementwise ReLU of Z1 (which can be any shape). You can read the full documentation [here.](http://pytorch.org/docs/master/nn.html#torch.nn.ReLU)\n",
        "\n",
        "- **x.view(new_shape)**: Returns a new tensor with the same data but different size. It is the equivalent of numpy function *reshape* (Gives a new shape to an array without changing its data). You can read the full documentation [here.](http://pytorch.org/docs/master/tensors.html#torch.Tensor.view)\n",
        "\n",
        "- **nn.Linear(in_features, out_features):** Applies a linear transformation to the incoming data: $y = Ax + b$, it is also called a fully connected layer. You can read the full documentation [here.](http://pytorch.org/docs/master/nn.html#linear-layers)"
      ]
    },
    {
      "cell_type": "markdown",
      "metadata": {
        "deletable": true,
        "editable": true,
        "id": "rbykSRDTcaym",
        "colab_type": "text"
      },
      "source": [
        "#### Simple Convolutional Neural Network\n",
        "\n",
        "ConvNet with one convolution layer followed by a max pooling operation,\n",
        "one fully connected layer and an output layer"
      ]
    },
    {
      "cell_type": "code",
      "metadata": {
        "deletable": true,
        "editable": true,
        "id": "X4pljAWycayn",
        "colab_type": "code",
        "colab": {}
      },
      "source": [
        "class SimpleConvolutionalNetwork(nn.Module):\n",
        "    def __init__(self):\n",
        "        super(SimpleConvolutionalNetwork, self).__init__()\n",
        "        \n",
        "        self.conv1 = nn.Conv2d(3, 18, kernel_size=3, stride=1, padding=1)\n",
        "        self.pool = nn.MaxPool2d(kernel_size=2, stride=2, padding=0)\n",
        "        \n",
        "        # cf comments in forward() to have step by step comments\n",
        "        # on the shape (how we pass from a 3x32x32 input image to a 18x16x16 volume)\n",
        "        self.fc1 = nn.Linear(18 * 16 * 16, 64) \n",
        "        self.fc2 = nn.Linear(64, 10)\n",
        "\n",
        "    def forward(self, x):\n",
        "        \"\"\"\n",
        "        Forward pass,\n",
        "        x shape is (batch_size, 3, 32, 32)\n",
        "        (color channel first)\n",
        "        in the comments, we omit the batch_size in the shape\n",
        "        \"\"\"\n",
        "        # shape : 3x32x32 -> 18x32x32\n",
        "        x = F.relu(self.conv1(x))\n",
        "        # 18x32x32 -> 18x16x16\n",
        "        x = self.pool(x)\n",
        "        # 18x16x16 -> 4608\n",
        "        x = x.view(-1, 18 * 16 * 16)\n",
        "        # 4608 -> 64\n",
        "        x = F.relu(self.fc1(x))\n",
        "        # 64 -> 10\n",
        "        # The softmax non-linearity is applied later (cf createLossAndOptimizer() fn)\n",
        "        x = self.fc2(x)\n",
        "        return x"
      ],
      "execution_count": 0,
      "outputs": []
    },
    {
      "cell_type": "markdown",
      "metadata": {
        "deletable": true,
        "editable": true,
        "id": "4m-VHCtRcayr",
        "colab_type": "text"
      },
      "source": [
        "#### Linear Classifier"
      ]
    },
    {
      "cell_type": "code",
      "metadata": {
        "deletable": true,
        "editable": true,
        "id": "Rj-togN6cays",
        "colab_type": "code",
        "colab": {}
      },
      "source": [
        "class LinearClassifier(nn.Module):\n",
        "    \"\"\"\n",
        "    Linear Classifier\n",
        "    \"\"\"\n",
        "    def __init__(self):\n",
        "        super(LinearClassifier, self).__init__()\n",
        "        self.linear = nn.Linear(32 * 32 * 3, 10)\n",
        "\n",
        "    def forward(self, x):\n",
        "        # Flatten input 3x32x32 -> 3072\n",
        "        x = x.view(x.size(0), -1)\n",
        "        return self.linear(x)"
      ],
      "execution_count": 0,
      "outputs": []
    },
    {
      "cell_type": "markdown",
      "metadata": {
        "colab_type": "text",
        "deletable": true,
        "editable": true,
        "id": "2SQi9Xf-t2Fu"
      },
      "source": [
        "### 3. Define a loss function and optimizer\n",
        "\n",
        "Let's use a Classification Cross-Entropy loss and ADAM (optionally, SGD with momentum). You can read more about  [optimization methods](https://pytorch.org/docs/stable/optim.html).\n",
        "\n"
      ]
    },
    {
      "cell_type": "code",
      "metadata": {
        "colab_type": "code",
        "deletable": true,
        "editable": true,
        "id": "DOUiPtZQt2Fx",
        "colab": {}
      },
      "source": [
        "import torch.optim as optim\n",
        "\n",
        "def createLossAndOptimizer(net, learning_rate=0.001):\n",
        "    # it combines softmax with negative log likelihood loss\n",
        "    criterion = nn.CrossEntropyLoss()  \n",
        "    #optimizer = optim.SGD(net.parameters(), lr=learning_rate, momentum=0.9)\n",
        "    optimizer = optim.Adam(net.parameters(), lr=learning_rate)\n",
        "    return criterion, optimizer"
      ],
      "execution_count": 0,
      "outputs": []
    },
    {
      "cell_type": "markdown",
      "metadata": {
        "colab_type": "text",
        "deletable": true,
        "editable": true,
        "id": "saJW5bKRt2F9"
      },
      "source": [
        "### 4. Train the network\n",
        "\n",
        "\n",
        "This is when things start to get interesting.\n",
        "We simply have to loop over our data iterator, feed the inputs to the network, and optimize\n",
        "\n"
      ]
    },
    {
      "cell_type": "markdown",
      "metadata": {
        "deletable": true,
        "editable": true,
        "id": "mNf1e8QZcay1",
        "colab_type": "text"
      },
      "source": [
        "#### Data loader"
      ]
    },
    {
      "cell_type": "code",
      "metadata": {
        "deletable": true,
        "editable": true,
        "id": "EqDD8_z8cay2",
        "colab_type": "code",
        "colab": {}
      },
      "source": [
        "def get_train_loader(batch_size):\n",
        "    return torch.utils.data.DataLoader(train_set, batch_size=batch_size, sampler=train_sampler,\n",
        "                                              num_workers=num_workers)\n",
        "\n",
        "# Use larger batch size for validation to speed up computation\n",
        "val_loader = torch.utils.data.DataLoader(train_set, batch_size=128, sampler=val_sampler,\n",
        "                                          num_workers=num_workers)"
      ],
      "execution_count": 0,
      "outputs": []
    },
    {
      "cell_type": "markdown",
      "metadata": {
        "deletable": true,
        "editable": true,
        "id": "yTDHHbLpcay5",
        "colab_type": "text"
      },
      "source": [
        "#### Training loop\n",
        "The training script: it takes ~10s per epoch with batch_size = 32"
      ]
    },
    {
      "cell_type": "code",
      "metadata": {
        "colab_type": "code",
        "deletable": true,
        "editable": true,
        "id": "dATbDR5pt2GE",
        "colab": {}
      },
      "source": [
        "def train(net, batch_size, n_epochs, learning_rate):\n",
        "    \"\"\"\n",
        "    Train a neural network and print statistics of the training\n",
        "    \n",
        "    :param net: (PyTorch Neural Network)\n",
        "    :param batch_size: (int)\n",
        "    :param n_epochs: (int)  Number of iterations on the training set\n",
        "    :param learning_rate: (float) learning rate used by the optimizer\n",
        "    \"\"\"\n",
        "    print(\"===== HYPERPARAMETERS =====\")\n",
        "    print(\"batch_size=\", batch_size)\n",
        "    print(\"n_epochs=\", n_epochs)\n",
        "    print(\"learning_rate=\", learning_rate)\n",
        "    print(\"=\" * 30)\n",
        "    \n",
        "    train_loader = get_train_loader(batch_size)\n",
        "    n_minibatches = len(train_loader)\n",
        "\n",
        "    criterion, optimizer = createLossAndOptimizer(net, learning_rate)\n",
        "    # Init variables used for plotting the loss\n",
        "    train_history = []\n",
        "    val_history = []\n",
        "\n",
        "    training_start_time = time.time()\n",
        "    best_error = np.inf\n",
        "    best_model_path = \"best_model.pth\"\n",
        "    \n",
        "    # Move model to gpu if possible\n",
        "    net = net.to(device)\n",
        "\n",
        "    for epoch in range(n_epochs):  # loop over the dataset multiple times\n",
        "\n",
        "        running_loss = 0.0\n",
        "        print_every = n_minibatches // 10\n",
        "        start_time = time.time()\n",
        "        total_train_loss = 0\n",
        "        \n",
        "        for i, (inputs, labels) in enumerate(train_loader):\n",
        "\n",
        "            # Move tensors to correct device\n",
        "            inputs, labels = inputs.to(device), labels.to(device)\n",
        "\n",
        "            # zero the parameter gradients\n",
        "            optimizer.zero_grad()\n",
        "\n",
        "            # forward + backward + optimize\n",
        "            outputs = net(inputs)\n",
        "            loss = criterion(outputs, labels)\n",
        "            loss.backward()\n",
        "            optimizer.step()\n",
        "\n",
        "            # print statistics\n",
        "            running_loss += loss.item()\n",
        "            total_train_loss += loss.item()\n",
        "\n",
        "            # print every 10th of epoch\n",
        "            if (i + 1) % (print_every + 1) == 0:    \n",
        "                print(\"Epoch {}, {:d}% \\t train_loss: {:.2f} took: {:.2f}s\".format(\n",
        "                      epoch + 1, int(100 * (i + 1) / n_minibatches), running_loss / print_every,\n",
        "                      time.time() - start_time))\n",
        "                running_loss = 0.0\n",
        "                start_time = time.time()\n",
        "\n",
        "        train_history.append(total_train_loss / len(train_loader))\n",
        "\n",
        "        total_val_loss = 0\n",
        "        # Do a pass on the validation set\n",
        "        # We don't need to compute gradient,\n",
        "        # we save memory and computation using th.no_grad()\n",
        "        with th.no_grad():\n",
        "          for inputs, labels in val_loader:\n",
        "              # Move tensors to correct device\n",
        "              inputs, labels = inputs.to(device), labels.to(device)\n",
        "              # Forward pass\n",
        "              predictions = net(inputs)\n",
        "              val_loss = criterion(predictions, labels)\n",
        "              total_val_loss += val_loss.item()\n",
        "            \n",
        "        val_history.append(total_val_loss / len(val_loader))\n",
        "        # Save model that performs best on validation set\n",
        "        if total_val_loss < best_error:\n",
        "            best_error = total_val_loss\n",
        "            th.save(net.state_dict(), best_model_path)\n",
        "\n",
        "        print(\"Validation loss = {:.2f}\".format(total_val_loss / len(val_loader)))\n",
        "\n",
        "    print(\"Training Finished, took {:.2f}s\".format(time.time() - training_start_time))\n",
        "    \n",
        "    # Load best model\n",
        "    net.load_state_dict(th.load(best_model_path))\n",
        "    \n",
        "    return train_history, val_history"
      ],
      "execution_count": 0,
      "outputs": []
    },
    {
      "cell_type": "code",
      "metadata": {
        "deletable": true,
        "editable": true,
        "id": "cJX2anB5cay_",
        "colab_type": "code",
        "outputId": "fb1d547c-dc69-479c-a229-f36a6de3be99",
        "colab": {
          "base_uri": "https://localhost:8080/",
          "height": 1000
        }
      },
      "source": [
        "net = SimpleConvolutionalNetwork()\n",
        "\n",
        "train_history, val_history = train(net, batch_size=32, n_epochs=10, learning_rate=0.001)"
      ],
      "execution_count": 0,
      "outputs": [
        {
          "output_type": "stream",
          "text": [
            "===== HYPERPARAMETERS =====\n",
            "batch_size= 32\n",
            "n_epochs= 10\n",
            "learning_rate= 0.001\n",
            "==============================\n",
            "Epoch 1, 10% \t train_loss: 1.95 took: 1.42s\n",
            "Epoch 1, 20% \t train_loss: 1.68 took: 1.57s\n",
            "Epoch 1, 30% \t train_loss: 1.55 took: 1.38s\n",
            "Epoch 1, 40% \t train_loss: 1.49 took: 1.40s\n",
            "Epoch 1, 50% \t train_loss: 1.45 took: 1.44s\n",
            "Epoch 1, 60% \t train_loss: 1.41 took: 1.38s\n",
            "Epoch 1, 70% \t train_loss: 1.33 took: 1.39s\n",
            "Epoch 1, 80% \t train_loss: 1.38 took: 1.37s\n",
            "Epoch 1, 90% \t train_loss: 1.34 took: 1.35s\n",
            "Validation loss = 1.33\n",
            "Epoch 2, 10% \t train_loss: 1.21 took: 1.41s\n",
            "Epoch 2, 20% \t train_loss: 1.24 took: 1.35s\n",
            "Epoch 2, 30% \t train_loss: 1.19 took: 1.30s\n",
            "Epoch 2, 40% \t train_loss: 1.23 took: 1.37s\n",
            "Epoch 2, 50% \t train_loss: 1.18 took: 1.41s\n",
            "Epoch 2, 60% \t train_loss: 1.20 took: 1.41s\n",
            "Epoch 2, 70% \t train_loss: 1.19 took: 1.42s\n",
            "Epoch 2, 80% \t train_loss: 1.17 took: 1.37s\n",
            "Epoch 2, 90% \t train_loss: 1.18 took: 1.50s\n",
            "Validation loss = 1.19\n",
            "Epoch 3, 10% \t train_loss: 1.08 took: 1.46s\n",
            "Epoch 3, 20% \t train_loss: 1.07 took: 1.37s\n",
            "Epoch 3, 30% \t train_loss: 1.08 took: 1.44s\n",
            "Epoch 3, 40% \t train_loss: 1.06 took: 1.47s\n",
            "Epoch 3, 50% \t train_loss: 1.09 took: 1.39s\n",
            "Epoch 3, 60% \t train_loss: 1.07 took: 1.29s\n",
            "Epoch 3, 70% \t train_loss: 1.07 took: 1.42s\n",
            "Epoch 3, 80% \t train_loss: 1.08 took: 1.32s\n",
            "Epoch 3, 90% \t train_loss: 1.07 took: 1.41s\n",
            "Validation loss = 1.15\n",
            "Epoch 4, 10% \t train_loss: 0.95 took: 1.62s\n",
            "Epoch 4, 20% \t train_loss: 1.01 took: 1.32s\n",
            "Epoch 4, 30% \t train_loss: 0.98 took: 1.30s\n",
            "Epoch 4, 40% \t train_loss: 1.00 took: 1.49s\n",
            "Epoch 4, 50% \t train_loss: 1.00 took: 1.42s\n",
            "Epoch 4, 60% \t train_loss: 0.98 took: 1.30s\n",
            "Epoch 4, 70% \t train_loss: 0.98 took: 1.45s\n",
            "Epoch 4, 80% \t train_loss: 0.99 took: 1.40s\n",
            "Epoch 4, 90% \t train_loss: 0.98 took: 1.27s\n",
            "Validation loss = 1.12\n",
            "Epoch 5, 10% \t train_loss: 0.89 took: 1.53s\n",
            "Epoch 5, 20% \t train_loss: 0.91 took: 1.36s\n",
            "Epoch 5, 30% \t train_loss: 0.88 took: 1.29s\n",
            "Epoch 5, 40% \t train_loss: 0.95 took: 1.42s\n",
            "Epoch 5, 50% \t train_loss: 0.93 took: 1.33s\n",
            "Epoch 5, 60% \t train_loss: 0.91 took: 1.32s\n",
            "Epoch 5, 70% \t train_loss: 0.91 took: 1.47s\n",
            "Epoch 5, 80% \t train_loss: 0.94 took: 1.36s\n",
            "Epoch 5, 90% \t train_loss: 0.90 took: 1.32s\n",
            "Validation loss = 1.08\n",
            "Epoch 6, 10% \t train_loss: 0.83 took: 1.35s\n",
            "Epoch 6, 20% \t train_loss: 0.83 took: 1.27s\n",
            "Epoch 6, 30% \t train_loss: 0.84 took: 1.28s\n",
            "Epoch 6, 40% \t train_loss: 0.84 took: 1.45s\n",
            "Epoch 6, 50% \t train_loss: 0.85 took: 1.45s\n",
            "Epoch 6, 60% \t train_loss: 0.87 took: 1.42s\n",
            "Epoch 6, 70% \t train_loss: 0.91 took: 1.40s\n",
            "Epoch 6, 80% \t train_loss: 0.88 took: 1.32s\n",
            "Epoch 6, 90% \t train_loss: 0.87 took: 1.37s\n",
            "Validation loss = 1.08\n",
            "Epoch 7, 10% \t train_loss: 0.76 took: 1.40s\n",
            "Epoch 7, 20% \t train_loss: 0.79 took: 1.42s\n",
            "Epoch 7, 30% \t train_loss: 0.82 took: 1.40s\n",
            "Epoch 7, 40% \t train_loss: 0.80 took: 1.29s\n",
            "Epoch 7, 50% \t train_loss: 0.82 took: 1.35s\n",
            "Epoch 7, 60% \t train_loss: 0.81 took: 1.33s\n",
            "Epoch 7, 70% \t train_loss: 0.81 took: 1.32s\n",
            "Epoch 7, 80% \t train_loss: 0.84 took: 1.46s\n",
            "Epoch 7, 90% \t train_loss: 0.88 took: 1.35s\n",
            "Validation loss = 1.09\n",
            "Epoch 8, 10% \t train_loss: 0.75 took: 1.55s\n",
            "Epoch 8, 20% \t train_loss: 0.75 took: 1.38s\n",
            "Epoch 8, 30% \t train_loss: 0.75 took: 1.35s\n",
            "Epoch 8, 40% \t train_loss: 0.73 took: 1.49s\n",
            "Epoch 8, 50% \t train_loss: 0.76 took: 1.44s\n",
            "Epoch 8, 60% \t train_loss: 0.79 took: 1.26s\n",
            "Epoch 8, 70% \t train_loss: 0.81 took: 1.43s\n",
            "Epoch 8, 80% \t train_loss: 0.79 took: 1.35s\n",
            "Epoch 8, 90% \t train_loss: 0.82 took: 1.45s\n",
            "Validation loss = 1.11\n",
            "Epoch 9, 10% \t train_loss: 0.69 took: 1.40s\n",
            "Epoch 9, 20% \t train_loss: 0.72 took: 1.38s\n",
            "Epoch 9, 30% \t train_loss: 0.71 took: 1.29s\n",
            "Epoch 9, 40% \t train_loss: 0.74 took: 1.36s\n",
            "Epoch 9, 50% \t train_loss: 0.72 took: 1.43s\n",
            "Epoch 9, 60% \t train_loss: 0.76 took: 1.37s\n",
            "Epoch 9, 70% \t train_loss: 0.75 took: 1.40s\n",
            "Epoch 9, 80% \t train_loss: 0.79 took: 1.39s\n",
            "Epoch 9, 90% \t train_loss: 0.77 took: 1.35s\n",
            "Validation loss = 1.14\n",
            "Epoch 10, 10% \t train_loss: 0.64 took: 1.47s\n",
            "Epoch 10, 20% \t train_loss: 0.68 took: 1.42s\n",
            "Epoch 10, 30% \t train_loss: 0.67 took: 1.25s\n",
            "Epoch 10, 40% \t train_loss: 0.69 took: 1.35s\n",
            "Epoch 10, 50% \t train_loss: 0.68 took: 1.52s\n",
            "Epoch 10, 60% \t train_loss: 0.72 took: 1.48s\n",
            "Epoch 10, 70% \t train_loss: 0.75 took: 1.40s\n",
            "Epoch 10, 80% \t train_loss: 0.72 took: 1.43s\n",
            "Epoch 10, 90% \t train_loss: 0.76 took: 1.30s\n",
            "Validation loss = 1.20\n",
            "Training Finished, took 150.24s\n"
          ],
          "name": "stdout"
        }
      ]
    },
    {
      "cell_type": "markdown",
      "metadata": {
        "deletable": true,
        "editable": true,
        "id": "UkVKNPtccazC",
        "colab_type": "text"
      },
      "source": [
        "Now, let's look at the evolution of the losses"
      ]
    },
    {
      "cell_type": "code",
      "metadata": {
        "deletable": true,
        "editable": true,
        "id": "4CUQt-HJcazF",
        "colab_type": "code",
        "outputId": "aa1c3c01-4dc7-418c-94c9-de3f3591f6a6",
        "colab": {
          "base_uri": "https://localhost:8080/",
          "height": 404
        }
      },
      "source": [
        "plot_losses(train_history, val_history)"
      ],
      "execution_count": 0,
      "outputs": [
        {
          "output_type": "display_data",
          "data": {
            "image/png": "[encoded data removed]",
            "text/plain": [
              "<Figure size 576x432 with 1 Axes>"
            ]
          },
          "metadata": {
            "tags": []
          }
        }
      ]
    },
    {
      "cell_type": "markdown",
      "metadata": {
        "colab_type": "text",
        "deletable": true,
        "editable": true,
        "id": "O90WcUTwt2GU"
      },
      "source": [
        "### 5. Test the network on the test data\n",
        "\n",
        "\n",
        "We have trained the network for 2 passes over the training dataset.\n",
        "But we need to check if the network has learnt anything at all.\n",
        "\n",
        "We will check this by predicting the class label that the neural network\n",
        "outputs, and checking it against the ground-truth. If the prediction is\n",
        "correct, we add the sample to the list of correct predictions.\n",
        "\n",
        "Okay, first step. Let us display an image from the test set to get familiar.\n",
        "\n"
      ]
    },
    {
      "cell_type": "code",
      "metadata": {
        "colab_type": "code",
        "deletable": true,
        "editable": true,
        "id": "V4vljwBlt2GX",
        "outputId": "6693f7bd-ac04-45f9-b408-4ee41eb3c4dc",
        "colab": {
          "base_uri": "https://localhost:8080/",
          "height": 190
        }
      },
      "source": [
        "try:\n",
        "  images, labels = next(iter(test_loader))\n",
        "except EOFError:\n",
        "  pass\n",
        "\n",
        "# print images\n",
        "imshow(torchvision.utils.make_grid(images))\n",
        "print(\"Ground truth:\\n\")\n",
        "\n",
        "print(' '.join('{:>10}'.format(classes[labels[j]]) for j in range(test_batch_size)))"
      ],
      "execution_count": 0,
      "outputs": [
        {
          "output_type": "stream",
          "text": [
            "Ground truth:\n",
            "\n",
            "       cat       deer        dog        dog\n"
          ],
          "name": "stdout"
        },
        {
          "output_type": "display_data",
          "data": {
            "image/png": "[encoded data removed]",
            "text/plain": [
              "<Figure size 432x288 with 1 Axes>"
            ]
          },
          "metadata": {
            "tags": []
          }
        }
      ]
    },
    {
      "cell_type": "markdown",
      "metadata": {
        "colab_type": "text",
        "deletable": true,
        "editable": true,
        "id": "KpmaQT4Zt2Gn"
      },
      "source": [
        "Okay, now let us see what the neural network thinks these examples above are:\n",
        "\n"
      ]
    },
    {
      "cell_type": "code",
      "metadata": {
        "colab_type": "code",
        "deletable": true,
        "editable": true,
        "id": "utIfocFrt2Gs",
        "outputId": "4635e702-1c1c-409f-c3a4-fd3f88144315",
        "colab": {
          "base_uri": "https://localhost:8080/",
          "height": 35
        }
      },
      "source": [
        "outputs = net(images.to(device))\n",
        "print(outputs.size())"
      ],
      "execution_count": 0,
      "outputs": [
        {
          "output_type": "stream",
          "text": [
            "torch.Size([4, 10])\n"
          ],
          "name": "stdout"
        }
      ]
    },
    {
      "cell_type": "markdown",
      "metadata": {
        "colab_type": "text",
        "deletable": true,
        "editable": true,
        "id": "6mU42O0Gt2G2"
      },
      "source": [
        "The outputs are energies for the 10 classes.\n",
        "The higher the energy for a class, the more the network\n",
        "thinks that the image is from that particular class.\n",
        "So, let's get the index of the highest energy:\n",
        "\n"
      ]
    },
    {
      "cell_type": "code",
      "metadata": {
        "colab_type": "code",
        "deletable": true,
        "editable": true,
        "id": "IWTWHHs9t2G5",
        "outputId": "d5d4656e-8d83-4bb4-d174-5f7538a932a3",
        "colab": {
          "base_uri": "https://localhost:8080/",
          "height": 190
        }
      },
      "source": [
        "_, predicted = torch.max(outputs, 1)\n",
        "\n",
        "print(\"Predicted:\\n\")\n",
        "imshow(torchvision.utils.make_grid(images))\n",
        "\n",
        "print(' '.join('{:>10}'.format(classes[predicted[j]]) for j in range(test_batch_size)))"
      ],
      "execution_count": 0,
      "outputs": [
        {
          "output_type": "stream",
          "text": [
            "Predicted:\n",
            "\n",
            "      deer      horse        dog       bird\n"
          ],
          "name": "stdout"
        },
        {
          "output_type": "display_data",
          "data": {
            "image/png": "[encoded data removed]",
            "text/plain": [
              "<Figure size 432x288 with 1 Axes>"
            ]
          },
          "metadata": {
            "tags": []
          }
        }
      ]
    },
    {
      "cell_type": "markdown",
      "metadata": {
        "colab_type": "text",
        "deletable": true,
        "editable": true,
        "id": "AUpCEAOTt2HK"
      },
      "source": [
        "The results seem pretty good.\n",
        "\n",
        "Let us look at how the network performs on the whole test set.\n",
        "\n"
      ]
    },
    {
      "cell_type": "code",
      "metadata": {
        "colab_type": "code",
        "deletable": true,
        "editable": true,
        "id": "LI6JtYwTt2HM",
        "outputId": "3f5b1bee-36a0-41ad-da15-f554de9ce178",
        "colab": {
          "base_uri": "https://localhost:8080/",
          "height": 87
        }
      },
      "source": [
        "def dataset_accuracy(net, data_loader, name=\"\"):\n",
        "    net = net.to(device)\n",
        "    correct = 0\n",
        "    total = 0\n",
        "    for images, labels in data_loader:\n",
        "        images, labels = images.to(device), labels.to(device)\n",
        "        outputs = net(images)\n",
        "        _, predicted = torch.max(outputs, 1)\n",
        "        total += labels.size(0)\n",
        "        correct += (predicted == labels).sum()\n",
        "    accuracy = 100 * float(correct) / total\n",
        "    print('Accuracy of the network on the {} {} images: {:.2f} %'.format(total, name, accuracy))\n",
        "\n",
        "def train_set_accuracy(net):\n",
        "    dataset_accuracy(net, train_loader, \"train\")\n",
        "\n",
        "def val_set_accuracy(net):\n",
        "    dataset_accuracy(net, val_loader, \"validation\")  \n",
        "    \n",
        "def test_set_accuracy(net):\n",
        "    dataset_accuracy(net, test_loader, \"test\")\n",
        "\n",
        "def compute_accuracy(net):\n",
        "    train_set_accuracy(net)\n",
        "    val_set_accuracy(net)\n",
        "    test_set_accuracy(net)\n",
        "    \n",
        "print(\"Computing accuracy...\")\n",
        "compute_accuracy(net)"
      ],
      "execution_count": 0,
      "outputs": [
        {
          "output_type": "stream",
          "text": [
            "Computing accuracy...\n",
            "Accuracy of the network on the 40000 train images: 71.94 %\n",
            "Accuracy of the network on the 5000 validation images: 62.40 %\n",
            "Accuracy of the network on the 5000 test images: 63.50 %\n"
          ],
          "name": "stdout"
        }
      ]
    },
    {
      "cell_type": "markdown",
      "metadata": {
        "colab_type": "text",
        "deletable": true,
        "editable": true,
        "id": "iGGyra-4t2HW"
      },
      "source": [
        "That initial 59.78 % on the test set of images looks waaay better than chance, which is 10% accuracy (randomly picking\n",
        "a class out of 10 classes).\n",
        "Seems like the network learnt something.\n",
        "As a baseline, a linear model achieves around 30% accuracy.\n",
        "\n",
        "What are the classes that performed well, and the classes that did not perform well?\n",
        "\n"
      ]
    },
    {
      "cell_type": "code",
      "metadata": {
        "colab_type": "code",
        "deletable": true,
        "editable": true,
        "id": "rkim9_INt2HY",
        "outputId": "80220ab8-4903-455a-cc4b-707c6dbda386",
        "colab": {
          "base_uri": "https://localhost:8080/",
          "height": 208
        }
      },
      "source": [
        "def accuracy_per_class(net):\n",
        "    net = net.to(device)\n",
        "    n_classes = 10\n",
        "    # (real, predicted)\n",
        "    confusion_matrix = np.zeros((n_classes, n_classes), dtype=np.int64)\n",
        "\n",
        "    for images, labels in test_loader:\n",
        "        images, labels = images, labels = images.to(device), labels.to(device)\n",
        "        outputs = net(images)\n",
        "        _, predicted = torch.max(outputs.data, 1)\n",
        "        for i in range(test_batch_size):\n",
        "            confusion_matrix[labels[i], predicted[i]] += 1\n",
        "            label = labels[i]\n",
        "\n",
        "    print(\"{:<10} {:^10}\".format(\"Class\", \"Accuracy (%)\"))\n",
        "    for i in range(n_classes):\n",
        "        class_total = confusion_matrix[i, :].sum()\n",
        "        class_correct = confusion_matrix[i, i]\n",
        "        percentage_correct = 100.0 * float(class_correct) / class_total\n",
        "        \n",
        "        print('{:<10} {:^10.2f}'.format(classes[i], percentage_correct))\n",
        "    return confusion_matrix\n",
        "\n",
        "confusion_matrix = accuracy_per_class(net)"
      ],
      "execution_count": 0,
      "outputs": [
        {
          "output_type": "stream",
          "text": [
            "Class      Accuracy (%)\n",
            "plane        77.46   \n",
            "car          80.40   \n",
            "bird         55.08   \n",
            "cat          36.22   \n",
            "deer         51.68   \n",
            "dog          55.74   \n",
            "frog         72.51   \n",
            "horse        68.28   \n",
            "ship         69.84   \n",
            "truck        68.03   \n"
          ],
          "name": "stdout"
        }
      ]
    },
    {
      "cell_type": "markdown",
      "metadata": {
        "deletable": true,
        "editable": true,
        "id": "AZKLymOacazg",
        "colab_type": "text"
      },
      "source": [
        "### Confusion Matrix"
      ]
    },
    {
      "cell_type": "markdown",
      "metadata": {
        "deletable": true,
        "editable": true,
        "id": "ekJHz3vpcazg",
        "colab_type": "text"
      },
      "source": [
        "Let's look at what type of error our networks makes... \n",
        "It seems that our network is pretty good at classifying ships,\n",
        "but has some difficulties to differentiate cats and dogs.\n",
        "Also, it classifies a lot of trucks as cars."
      ]
    },
    {
      "cell_type": "code",
      "metadata": {
        "deletable": true,
        "editable": true,
        "id": "1aYMqD1Ocazi",
        "colab_type": "code",
        "outputId": "319f6a4b-cd42-459d-f4f1-6d1bae183317",
        "colab": {
          "base_uri": "https://localhost:8080/",
          "height": 1000
        }
      },
      "source": [
        "# Plot normalized confusion matrix\n",
        "plot_confusion_matrix(confusion_matrix, classes, normalize=True,\n",
        "                      title='Normalized confusion matrix')\n",
        "\n",
        "# Plot non-normalized confusion matrix\n",
        "plot_confusion_matrix(confusion_matrix, classes,\n",
        "                      title='Confusion matrix, without normalization')"
      ],
      "execution_count": 0,
      "outputs": [
        {
          "output_type": "display_data",
          "data": {
            "image/png": "[encoded data removed]",
            "text/plain": [
              "<Figure size 576x576 with 2 Axes>"
            ]
          },
          "metadata": {
            "tags": []
          }
        },
        {
          "output_type": "display_data",
          "data": {
            "image/png": "[encoded data removed]",
            "text/plain": [
              "<Figure size 576x576 with 2 Axes>"
            ]
          },
          "metadata": {
            "tags": []
          }
        }
      ]
    },
    {
      "cell_type": "markdown",
      "metadata": {
        "colab_type": "text",
        "deletable": true,
        "editable": true,
        "id": "MVv-mV8Pt2Hs"
      },
      "source": [
        "# III. Exploring CNN Architectures\n",
        "\n",
        "Now, it is your turn to build a Convolutional Neural Network. The goal of this section is to explore different CNN architectures and set hyperparameters in order to obtain the best accuracy on the **test** set!\n",
        "\n",
        "The network that you have to tweak is called **MyConvolutionalNetwork**.\n",
        "\n",
        "You can start changing the batch_size, number of epochs and then try adding more convolutional layers."
      ]
    },
    {
      "cell_type": "markdown",
      "metadata": {
        "deletable": true,
        "editable": true,
        "id": "h1blK9eicazo",
        "colab_type": "text"
      },
      "source": [
        "### PyTorch functions to build the network\n",
        "- **nn.Conv2d(in_channels, out_channels, kernel_size, stride=1, padding=0):** Convolution layer. You can read the full documentation [here](http://pytorch.org/docs/master/nn.html#conv2d)\n",
        "\n",
        "- **nn.MaxPool2d(kernel_size, stride=None, padding=0):** Max pooling layer. You can read the full documentation [here](http://pytorch.org/docs/master/nn.html#maxpool2d)\n",
        "\n",
        "- **F.relu(Z1):** computes the element-wise ReLU of Z1 (which can be of any shape). You can read the full documentation [here.](http://pytorch.org/docs/master/nn.html#torch.nn.ReLU)\n",
        "\n",
        "- **x.view(new_shape)**: Returns a new tensor with the same data but different size. It is the equivalent of numpy function *reshape* (Gives a new shape to an array without changing its data.). You can read the full documentation [here.](http://pytorch.org/docs/master/tensors.html#torch.Tensor.view)\n",
        "\n",
        "- **nn.Linear(in_features, out_features):** Applies a linear transformation to the incoming data: $y = Ax + b$, it is also called a fully connected (fc) layer. You can read the full documentation [here.](http://pytorch.org/docs/master/nn.html#linear-layers)"
      ]
    },
    {
      "cell_type": "markdown",
      "metadata": {
        "deletable": true,
        "editable": true,
        "id": "a8-lKBaacazp",
        "colab_type": "text"
      },
      "source": [
        "**Convolution Formulas**:\n",
        "\n",
        "The formulas relating the output shape $(C_2, H_2, W_2)$ of the convolution to the input shape $(C_1, H_1, W_1)$ are:\n",
        "\n",
        "\n",
        "$$ H_2 = \\lfloor \\frac{H_1 - kernel\\_size + 2 \\times padding}{stride} \\rfloor +1 $$\n",
        "\n",
        "$$ W_2 = \\lfloor \\frac{W_1 - kernel\\_size + 2 \\times padding}{stride} \\rfloor +1 $$\n",
        "\n",
        "$$ C_2 = \\text{number of filters used in the convolution}$$\n",
        "\n",
        "NOTE: $C_2 = C_1$ in the case of max pooling\n",
        "\n",
        "where:\n",
        "- $H_2$: height of the output volume  \n",
        "- $W_2$: width of the output volume  \n",
        "- $C_1$: in_channels, number of channels in the input volume\n",
        "- $C_2$: out_channels"
      ]
    },
    {
      "cell_type": "code",
      "metadata": {
        "deletable": true,
        "editable": true,
        "id": "acppf3nkcazr",
        "colab_type": "code",
        "colab": {}
      },
      "source": [
        "def get_output_size(in_size, kernel_size, stride=1, padding=0):\n",
        "    \"\"\"\n",
        "    Get the output size given all the parameters of the convolution\n",
        "    :param in_size: (int) input size\n",
        "    :param kernel_size: (int)\n",
        "    :param stride: (int)\n",
        "    :param paddind: (int)\n",
        "    :return: (int)\n",
        "    \"\"\"\n",
        "    return int((in_size - kernel_size + 2 * padding) / stride) + 1"
      ],
      "execution_count": 0,
      "outputs": []
    },
    {
      "cell_type": "markdown",
      "metadata": {
        "deletable": true,
        "editable": true,
        "id": "SEsbZoTOcazu",
        "colab_type": "text"
      },
      "source": [
        "#### Example of use of helper method get_output_size() \n",
        "\n",
        "\n",
        "Let's assume you have an *input volume of size 3x32x32* (where 3 is the number of channels)\n",
        "and you use a 2D convolution with the following parameters:\n",
        "\n",
        "```python\n",
        "conv1 = nn.Conv2d(3, 18, kernel_size=7, stride=2, padding=1)\n",
        "```\n",
        "then, the size of the output volume is 18x?x? (because we have 18 filters) where ? is given by the convolution formulas (see above).\n",
        "\n",
        "**get_output_size()** function allows to compute that size:\n",
        "\n",
        "```\n",
        "out_size = get_output_size(in_size=32, kernel_size=7, stride=2, padding=1)\n",
        "print(out_size) # prints 14\n",
        "```\n",
        "\n",
        "That is to say, *the output volume is 18x14x14*"
      ]
    },
    {
      "cell_type": "code",
      "metadata": {
        "deletable": true,
        "editable": true,
        "id": "2JFQ1wgKcazv",
        "colab_type": "code",
        "outputId": "c515cf5c-7a41-462e-f41e-710f70c6beb7",
        "colab": {
          "base_uri": "https://localhost:8080/",
          "height": 35
        }
      },
      "source": [
        "out_size = get_output_size(in_size=16, kernel_size=3, stride=1, padding=1)\n",
        "print(out_size)"
      ],
      "execution_count": 0,
      "outputs": [
        {
          "output_type": "stream",
          "text": [
            "16\n"
          ],
          "name": "stdout"
        }
      ]
    },
    {
      "cell_type": "markdown",
      "metadata": {
        "deletable": true,
        "editable": true,
        "id": "wviV5iQIcazz",
        "colab_type": "text"
      },
      "source": [
        "Below is the neural network you have to edit:"
      ]
    },
    {
      "cell_type": "markdown",
      "metadata": {
        "id": "wOV0tk7fEZr1",
        "colab_type": "text"
      },
      "source": [
        "### What we have done, and what were our observations\n",
        "---\n",
        "## Adding (convolutional + pooling) layers\n",
        "\n",
        "We first tried to add the combination of a convolutional layer and and a pooling step to the default implementation. This improved our results a little, to about 65% of accuracy on the test images. We then tried to add more sets of one convolutional layer and one pooling step and observe the improvement of the results. The following table shows our results depending on the total number of sets of this kind.\n",
        "\n",
        "| Number of (convolutional layer + pooling) | Accuracy of the network on the 20000 train images | Accuracy of the network on the 5000 validation images | Accuracy of the network on the 5000 test images |\n",
        "|------|------|------|------|\n",
        "| 1 |   73.64%  | 60.88%|   61.92%  |\n",
        "| 2 |   82.64%  | 65.48%|   65.18%  |\n",
        "| 3 |   76.78%  | 69.24%|   68.16%  |\n",
        "| 4 |   83.59%  | 68.74%|   68.70%  |\n",
        "\n",
        "Thus the accuracy of the network on the test data set increases with the number of such combinations of layers, but sdoes not seem to change much after 3 sets of (convolutional + pooling) layers.\n",
        "\n",
        "## Adding (convolutional + pooling + batch normalization) layers\n",
        "\n",
        "We then tried to add some steps of batch normalization to our implementation. The following table shows our results in terms of accuracy, depending on the number of (convolutional + pooling + batch normalization) layers.\n",
        "\n",
        "| Number of (convolutional + pooling + batch normalization) layers | Accuracy of the network on the 20000 train images | Accuracy of the network on the 5000 validation images | Accuracy of the network on the 5000 test images |\n",
        "|------|------|------|------|\n",
        "| 1 |   72.18%  | 59.78%|   57.16%  |\n",
        "| 2 |   74.83%  | 63.22%|   62.08%  |\n",
        "| 3 |   75.44%  | 65.92%|   62.32%  |\n",
        "\n",
        "As you can see, these results are not as good as what we get by just adding (convolutional + pooling) layers.\n",
        "\n",
        "We finally tried a last implementation, that appeared to be the top performing configuration we tested, and whose implementation follows.\n"
      ]
    },
    {
      "cell_type": "markdown",
      "metadata": {
        "id": "Y3pC6ttLEpZM",
        "colab_type": "text"
      },
      "source": [
        "### Top performing configuration\n",
        "\n",
        "---\n",
        "\n",
        "*You will find here the implementation of our top performing configuration*\n"
      ]
    },
    {
      "cell_type": "code",
      "metadata": {
        "id": "QA8LjIkicc7t",
        "colab_type": "code",
        "colab": {}
      },
      "source": [
        "#### Layer class - Describes the base brick from which the neural network is built ####\n",
        "\n",
        "class BaseBrick(nn.Module):\n",
        "    def __init__(self, in_channels, out_channels):\n",
        "        super(BaseBrick, self).__init__()\n",
        "\n",
        "        #Convolution layer - in_channels and out_channels are parameters set by the user, kernel_size is fixed to 3, stride and padding to 1.\n",
        "        self.conv = nn.Conv2d(in_channels=in_channels, kernel_size=3, out_channels=out_channels, stride=1, padding=1)\n",
        "\n",
        "        #Batch normalization layer - layer used to improve the speed, performance and stability of the neural network\n",
        "        self.bn = nn.BatchNorm2d(num_features=out_channels)\n",
        "\n",
        "        #Activation function - Rectified Linear Unit\n",
        "        self.relu = nn.ReLU()\n",
        "\n",
        "    def forward(self, input):\n",
        "        output = self.conv(input)\n",
        "        output = self.bn(output)\n",
        "        output = self.relu(output)\n",
        "\n",
        "        return output"
      ],
      "execution_count": 0,
      "outputs": []
    },
    {
      "cell_type": "code",
      "metadata": {
        "deletable": true,
        "editable": true,
        "id": "fnKUPUDTcaz1",
        "colab_type": "code",
        "colab": {}
      },
      "source": [
        "class MyConvolutionalNetwork(nn.Module):\n",
        "    def __init__(self):\n",
        "        super(MyConvolutionalNetwork, self).__init__()\n",
        "\n",
        "        #### START CODE ####\n",
        "\n",
        "        #First sequence of 3 base bricks => 3 channels to 32 channels\n",
        "        self.bb1 = BaseBrick(in_channels=3,out_channels=32)\n",
        "        self.bb2 = BaseBrick(in_channels=32, out_channels=32)\n",
        "        self.bb3 = BaseBrick(in_channels=32, out_channels=32)\n",
        "\n",
        "        #Max pooling layer - kernel_size is fixed to 2\n",
        "        self.pool1 = nn.MaxPool2d(kernel_size=2)\n",
        "\n",
        "        #Dropout layer - layer used to reduce over-fitting in neural networks\n",
        "        self.dropout1 = nn.Dropout(0.3)\n",
        "\n",
        "        #Second sequence of 4 base bricks => 32 channels to 64 channels\n",
        "        self.bb4 = BaseBrick(in_channels=32, out_channels=64)\n",
        "        self.bb5 = BaseBrick(in_channels=64, out_channels=64)\n",
        "        self.bb6 = BaseBrick(in_channels=64, out_channels=64)\n",
        "        self.bb7 = BaseBrick(in_channels=64, out_channels=64)\n",
        "\n",
        "        self.pool2 = nn.MaxPool2d(kernel_size=2)\n",
        "        self.dropout2 = nn.Dropout(0.3)\n",
        "\n",
        "        #Third sequence of 4 base bricks => 64 channels to 128 channels\n",
        "        self.bb8 = BaseBrick(in_channels=64, out_channels=128)\n",
        "        self.bb9 = BaseBrick(in_channels=128, out_channels=128)\n",
        "        self.bb10 = BaseBrick(in_channels=128, out_channels=128)\n",
        "        self.bb11 = BaseBrick(in_channels=128, out_channels=128)\n",
        "\n",
        "        self.pool3 = nn.MaxPool2d(kernel_size=2)\n",
        "        self.dropout3 = nn.Dropout(0.3)\n",
        "\n",
        "        #Forth sequence of 3 base bricks => 128 channels to 128 channels\n",
        "        self.bb12 = BaseBrick(in_channels=128, out_channels=128)\n",
        "        self.bb13 = BaseBrick(in_channels=128, out_channels=128)\n",
        "        self.bb14 = BaseBrick(in_channels=128, out_channels=128)\n",
        "\n",
        "        #Average pooling layer - kernel_size is fixed to 4\n",
        "        self.avgpool = nn.AvgPool2d(kernel_size=4)\n",
        "\n",
        "        #For readability purposes, we pack our bricks and layers in a single Sequential object\n",
        "        self.net = nn.Sequential(self.bb1, self.bb2, self.bb3, self.pool1, self.dropout1, \n",
        "                                 self.bb4, self.bb5, self.bb6 ,self.bb7, self.pool2, self.dropout2, \n",
        "                                 self.bb8, self.bb9, self.bb10, self.bb11, self.pool3, self.dropout3,\n",
        "                                 self.bb12, self.bb13, self.bb14, self.avgpool)\n",
        "\n",
        "        # Size of the output of the last convolution - because of the last pooling layer, the output size is 1\n",
        "        self.flattened_size = 128 * 1 * 1\n",
        "\n",
        "        #Fully connected layer - in_features is equal to flattened_size, and out_features is equal to the number of classes : 10\n",
        "        self.fc1 = nn.Linear(self.flattened_size, 10)\n",
        "               \n",
        "        ### END CODE ###\n",
        "\n",
        "    def forward(self, x):\n",
        "        \n",
        "        #### START CODE####\n",
        "\n",
        "        x = self.net(x)\n",
        "\n",
        "        #### END CODE ####\n",
        "        \n",
        "        # Check the output size\n",
        "        output_size = np.prod(x.size()[1:])\n",
        "        assert output_size == self.flattened_size,\\\n",
        "                \"self.flattened_size is invalid {} != {}\".format(output_size, self.flattened_size)\n",
        "        \n",
        "        x = x.view(-1, self.flattened_size)\n",
        "        x = self.fc1(x)\n",
        "\n",
        "        return x"
      ],
      "execution_count": 0,
      "outputs": []
    },
    {
      "cell_type": "code",
      "metadata": {
        "deletable": true,
        "editable": true,
        "scrolled": false,
        "id": "ruLWyTSocaz5",
        "colab_type": "code",
        "outputId": "8a75fa4f-6bb8-4132-fead-59e49d4d91ee",
        "colab": {
          "base_uri": "https://localhost:8080/",
          "height": 1000
        }
      },
      "source": [
        "net = MyConvolutionalNetwork()\n",
        "\n",
        "#We decided to perform the learning process over 20 epochs instead of 10\n",
        "train_history, val_history = train(net, batch_size=32, n_epochs=20, learning_rate=0.001)"
      ],
      "execution_count": 0,
      "outputs": [
        {
          "output_type": "stream",
          "text": [
            "===== HYPERPARAMETERS =====\n",
            "batch_size= 32\n",
            "n_epochs= 20\n",
            "learning_rate= 0.001\n",
            "==============================\n",
            "Epoch 1, 10% \t train_loss: 2.00 took: 4.10s\n",
            "Epoch 1, 20% \t train_loss: 1.81 took: 3.64s\n",
            "Epoch 1, 30% \t train_loss: 1.77 took: 3.63s\n",
            "Epoch 1, 40% \t train_loss: 1.68 took: 3.72s\n",
            "Epoch 1, 50% \t train_loss: 1.64 took: 3.57s\n",
            "Epoch 1, 60% \t train_loss: 1.60 took: 3.73s\n",
            "Epoch 1, 70% \t train_loss: 1.54 took: 3.70s\n",
            "Epoch 1, 80% \t train_loss: 1.49 took: 3.68s\n",
            "Epoch 1, 90% \t train_loss: 1.47 took: 3.40s\n",
            "Validation loss = 1.41\n",
            "Epoch 2, 10% \t train_loss: 1.40 took: 3.79s\n",
            "Epoch 2, 20% \t train_loss: 1.35 took: 3.85s\n",
            "Epoch 2, 30% \t train_loss: 1.36 took: 3.74s\n",
            "Epoch 2, 40% \t train_loss: 1.28 took: 3.62s\n",
            "Epoch 2, 50% \t train_loss: 1.27 took: 3.63s\n",
            "Epoch 2, 60% \t train_loss: 1.27 took: 3.94s\n",
            "Epoch 2, 70% \t train_loss: 1.27 took: 3.67s\n",
            "Epoch 2, 80% \t train_loss: 1.22 took: 3.69s\n",
            "Epoch 2, 90% \t train_loss: 1.19 took: 3.61s\n",
            "Validation loss = 1.12\n",
            "Epoch 3, 10% \t train_loss: 1.16 took: 3.85s\n",
            "Epoch 3, 20% \t train_loss: 1.14 took: 3.53s\n",
            "Epoch 3, 30% \t train_loss: 1.13 took: 3.67s\n",
            "Epoch 3, 40% \t train_loss: 1.12 took: 3.63s\n",
            "Epoch 3, 50% \t train_loss: 1.09 took: 3.98s\n",
            "Epoch 3, 60% \t train_loss: 1.07 took: 3.67s\n",
            "Epoch 3, 70% \t train_loss: 1.07 took: 3.47s\n",
            "Epoch 3, 80% \t train_loss: 1.05 took: 3.84s\n",
            "Epoch 3, 90% \t train_loss: 1.03 took: 3.81s\n",
            "Validation loss = 1.02\n",
            "Epoch 4, 10% \t train_loss: 0.99 took: 3.94s\n",
            "Epoch 4, 20% \t train_loss: 1.00 took: 3.50s\n",
            "Epoch 4, 30% \t train_loss: 0.99 took: 3.83s\n",
            "Epoch 4, 40% \t train_loss: 0.96 took: 3.63s\n",
            "Epoch 4, 50% \t train_loss: 0.96 took: 3.38s\n",
            "Epoch 4, 60% \t train_loss: 0.98 took: 3.67s\n",
            "Epoch 4, 70% \t train_loss: 0.95 took: 3.44s\n",
            "Epoch 4, 80% \t train_loss: 0.95 took: 3.62s\n",
            "Epoch 4, 90% \t train_loss: 0.90 took: 3.75s\n",
            "Validation loss = 0.90\n",
            "Epoch 5, 10% \t train_loss: 0.89 took: 3.93s\n",
            "Epoch 5, 20% \t train_loss: 0.89 took: 3.81s\n",
            "Epoch 5, 30% \t train_loss: 0.89 took: 3.64s\n",
            "Epoch 5, 40% \t train_loss: 0.86 took: 3.66s\n",
            "Epoch 5, 50% \t train_loss: 0.88 took: 3.71s\n",
            "Epoch 5, 60% \t train_loss: 0.85 took: 3.86s\n",
            "Epoch 5, 70% \t train_loss: 0.84 took: 3.59s\n",
            "Epoch 5, 80% \t train_loss: 0.82 took: 3.43s\n",
            "Epoch 5, 90% \t train_loss: 0.85 took: 3.73s\n",
            "Validation loss = 0.83\n",
            "Epoch 6, 10% \t train_loss: 0.81 took: 3.54s\n",
            "Epoch 6, 20% \t train_loss: 0.81 took: 3.38s\n",
            "Epoch 6, 30% \t train_loss: 0.79 took: 3.50s\n",
            "Epoch 6, 40% \t train_loss: 0.78 took: 3.71s\n",
            "Epoch 6, 50% \t train_loss: 0.82 took: 3.73s\n",
            "Epoch 6, 60% \t train_loss: 0.78 took: 3.64s\n",
            "Epoch 6, 70% \t train_loss: 0.76 took: 3.90s\n",
            "Epoch 6, 80% \t train_loss: 0.75 took: 3.66s\n",
            "Epoch 6, 90% \t train_loss: 0.74 took: 3.53s\n",
            "Validation loss = 0.76\n",
            "Epoch 7, 10% \t train_loss: 0.73 took: 3.81s\n",
            "Epoch 7, 20% \t train_loss: 0.73 took: 3.85s\n",
            "Epoch 7, 30% \t train_loss: 0.73 took: 3.79s\n",
            "Epoch 7, 40% \t train_loss: 0.71 took: 3.50s\n",
            "Epoch 7, 50% \t train_loss: 0.74 took: 3.77s\n",
            "Epoch 7, 60% \t train_loss: 0.73 took: 3.81s\n",
            "Epoch 7, 70% \t train_loss: 0.69 took: 3.65s\n",
            "Epoch 7, 80% \t train_loss: 0.71 took: 3.75s\n",
            "Epoch 7, 90% \t train_loss: 0.71 took: 3.47s\n",
            "Validation loss = 0.71\n",
            "Epoch 8, 10% \t train_loss: 0.67 took: 3.73s\n",
            "Epoch 8, 20% \t train_loss: 0.66 took: 3.53s\n",
            "Epoch 8, 30% \t train_loss: 0.66 took: 3.67s\n",
            "Epoch 8, 40% \t train_loss: 0.66 took: 3.45s\n",
            "Epoch 8, 50% \t train_loss: 0.68 took: 3.43s\n",
            "Epoch 8, 60% \t train_loss: 0.69 took: 3.58s\n",
            "Epoch 8, 70% \t train_loss: 0.66 took: 3.55s\n",
            "Epoch 8, 80% \t train_loss: 0.66 took: 3.74s\n",
            "Epoch 8, 90% \t train_loss: 0.65 took: 3.69s\n",
            "Validation loss = 0.72\n",
            "Epoch 9, 10% \t train_loss: 0.60 took: 3.67s\n",
            "Epoch 9, 20% \t train_loss: 0.64 took: 3.63s\n",
            "Epoch 9, 30% \t train_loss: 0.64 took: 3.68s\n",
            "Epoch 9, 40% \t train_loss: 0.61 took: 3.83s\n",
            "Epoch 9, 50% \t train_loss: 0.61 took: 3.64s\n",
            "Epoch 9, 60% \t train_loss: 0.63 took: 3.71s\n",
            "Epoch 9, 70% \t train_loss: 0.62 took: 3.65s\n",
            "Epoch 9, 80% \t train_loss: 0.62 took: 3.72s\n",
            "Epoch 9, 90% \t train_loss: 0.61 took: 3.93s\n",
            "Validation loss = 0.67\n",
            "Epoch 10, 10% \t train_loss: 0.59 took: 3.74s\n",
            "Epoch 10, 20% \t train_loss: 0.57 took: 3.79s\n",
            "Epoch 10, 30% \t train_loss: 0.61 took: 3.64s\n",
            "Epoch 10, 40% \t train_loss: 0.57 took: 3.71s\n",
            "Epoch 10, 50% \t train_loss: 0.59 took: 3.75s\n",
            "Epoch 10, 60% \t train_loss: 0.57 took: 4.19s\n",
            "Epoch 10, 70% \t train_loss: 0.59 took: 3.89s\n",
            "Epoch 10, 80% \t train_loss: 0.58 took: 3.81s\n",
            "Epoch 10, 90% \t train_loss: 0.55 took: 3.89s\n",
            "Validation loss = 0.65\n",
            "Epoch 11, 10% \t train_loss: 0.52 took: 3.83s\n",
            "Epoch 11, 20% \t train_loss: 0.54 took: 3.84s\n",
            "Epoch 11, 30% \t train_loss: 0.55 took: 3.79s\n",
            "Epoch 11, 40% \t train_loss: 0.57 took: 3.88s\n",
            "Epoch 11, 50% \t train_loss: 0.57 took: 3.74s\n",
            "Epoch 11, 60% \t train_loss: 0.57 took: 3.71s\n",
            "Epoch 11, 70% \t train_loss: 0.54 took: 3.93s\n",
            "Epoch 11, 80% \t train_loss: 0.56 took: 3.80s\n",
            "Epoch 11, 90% \t train_loss: 0.55 took: 3.88s\n",
            "Validation loss = 0.64\n",
            "Epoch 12, 10% \t train_loss: 0.52 took: 4.01s\n",
            "Epoch 12, 20% \t train_loss: 0.48 took: 3.97s\n",
            "Epoch 12, 30% \t train_loss: 0.53 took: 3.85s\n",
            "Epoch 12, 40% \t train_loss: 0.52 took: 3.76s\n",
            "Epoch 12, 50% \t train_loss: 0.50 took: 3.87s\n",
            "Epoch 12, 60% \t train_loss: 0.54 took: 3.72s\n",
            "Epoch 12, 70% \t train_loss: 0.52 took: 3.57s\n",
            "Epoch 12, 80% \t train_loss: 0.54 took: 3.71s\n",
            "Epoch 12, 90% \t train_loss: 0.50 took: 3.60s\n",
            "Validation loss = 0.59\n",
            "Epoch 13, 10% \t train_loss: 0.47 took: 3.55s\n",
            "Epoch 13, 20% \t train_loss: 0.49 took: 3.72s\n",
            "Epoch 13, 30% \t train_loss: 0.51 took: 3.88s\n",
            "Epoch 13, 40% \t train_loss: 0.49 took: 3.92s\n",
            "Epoch 13, 50% \t train_loss: 0.51 took: 4.33s\n",
            "Epoch 13, 60% \t train_loss: 0.50 took: 3.61s\n",
            "Epoch 13, 70% \t train_loss: 0.48 took: 3.80s\n",
            "Epoch 13, 80% \t train_loss: 0.47 took: 4.01s\n",
            "Epoch 13, 90% \t train_loss: 0.46 took: 3.76s\n",
            "Validation loss = 0.61\n",
            "Epoch 14, 10% \t train_loss: 0.46 took: 4.06s\n",
            "Epoch 14, 20% \t train_loss: 0.44 took: 3.74s\n",
            "Epoch 14, 30% \t train_loss: 0.46 took: 3.85s\n",
            "Epoch 14, 40% \t train_loss: 0.47 took: 3.72s\n",
            "Epoch 14, 50% \t train_loss: 0.46 took: 3.99s\n",
            "Epoch 14, 60% \t train_loss: 0.46 took: 3.65s\n",
            "Epoch 14, 70% \t train_loss: 0.44 took: 3.55s\n",
            "Epoch 14, 80% \t train_loss: 0.49 took: 3.70s\n",
            "Epoch 14, 90% \t train_loss: 0.48 took: 3.70s\n",
            "Validation loss = 0.56\n",
            "Epoch 15, 10% \t train_loss: 0.41 took: 3.74s\n",
            "Epoch 15, 20% \t train_loss: 0.45 took: 4.14s\n",
            "Epoch 15, 30% \t train_loss: 0.40 took: 3.75s\n",
            "Epoch 15, 40% \t train_loss: 0.45 took: 3.61s\n",
            "Epoch 15, 50% \t train_loss: 0.44 took: 3.86s\n",
            "Epoch 15, 60% \t train_loss: 0.45 took: 3.57s\n",
            "Epoch 15, 70% \t train_loss: 0.44 took: 3.74s\n",
            "Epoch 15, 80% \t train_loss: 0.45 took: 3.68s\n",
            "Epoch 15, 90% \t train_loss: 0.44 took: 3.81s\n",
            "Validation loss = 0.58\n",
            "Epoch 16, 10% \t train_loss: 0.41 took: 3.65s\n",
            "Epoch 16, 20% \t train_loss: 0.41 took: 3.54s\n",
            "Epoch 16, 30% \t train_loss: 0.37 took: 3.32s\n",
            "Epoch 16, 40% \t train_loss: 0.43 took: 3.73s\n",
            "Epoch 16, 50% \t train_loss: 0.41 took: 3.97s\n",
            "Epoch 16, 60% \t train_loss: 0.42 took: 3.65s\n",
            "Epoch 16, 70% \t train_loss: 0.45 took: 3.53s\n",
            "Epoch 16, 80% \t train_loss: 0.39 took: 3.67s\n",
            "Epoch 16, 90% \t train_loss: 0.42 took: 3.66s\n",
            "Validation loss = 0.61\n",
            "Epoch 17, 10% \t train_loss: 0.37 took: 3.67s\n",
            "Epoch 17, 20% \t train_loss: 0.37 took: 3.68s\n",
            "Epoch 17, 30% \t train_loss: 0.39 took: 3.45s\n",
            "Epoch 17, 40% \t train_loss: 0.40 took: 3.80s\n",
            "Epoch 17, 50% \t train_loss: 0.42 took: 3.55s\n",
            "Epoch 17, 60% \t train_loss: 0.37 took: 3.74s\n",
            "Epoch 17, 70% \t train_loss: 0.38 took: 3.61s\n",
            "Epoch 17, 80% \t train_loss: 0.42 took: 3.50s\n",
            "Epoch 17, 90% \t train_loss: 0.40 took: 3.42s\n",
            "Validation loss = 0.57\n",
            "Epoch 18, 10% \t train_loss: 0.37 took: 3.90s\n",
            "Epoch 18, 20% \t train_loss: 0.38 took: 3.44s\n",
            "Epoch 18, 30% \t train_loss: 0.37 took: 3.57s\n",
            "Epoch 18, 40% \t train_loss: 0.39 took: 3.67s\n",
            "Epoch 18, 50% \t train_loss: 0.37 took: 3.57s\n",
            "Epoch 18, 60% \t train_loss: 0.37 took: 3.40s\n",
            "Epoch 18, 70% \t train_loss: 0.38 took: 3.56s\n",
            "Epoch 18, 80% \t train_loss: 0.39 took: 3.68s\n",
            "Epoch 18, 90% \t train_loss: 0.38 took: 3.74s\n",
            "Validation loss = 0.57\n",
            "Epoch 19, 10% \t train_loss: 0.33 took: 3.66s\n",
            "Epoch 19, 20% \t train_loss: 0.36 took: 3.66s\n",
            "Epoch 19, 30% \t train_loss: 0.35 took: 3.63s\n",
            "Epoch 19, 40% \t train_loss: 0.35 took: 3.56s\n",
            "Epoch 19, 50% \t train_loss: 0.35 took: 3.78s\n",
            "Epoch 19, 60% \t train_loss: 0.36 took: 3.86s\n",
            "Epoch 19, 70% \t train_loss: 0.35 took: 3.72s\n",
            "Epoch 19, 80% \t train_loss: 0.38 took: 3.56s\n",
            "Epoch 19, 90% \t train_loss: 0.37 took: 3.50s\n",
            "Validation loss = 0.55\n",
            "Epoch 20, 10% \t train_loss: 0.33 took: 3.59s\n",
            "Epoch 20, 20% \t train_loss: 0.36 took: 3.64s\n",
            "Epoch 20, 30% \t train_loss: 0.34 took: 3.57s\n",
            "Epoch 20, 40% \t train_loss: 0.35 took: 3.44s\n",
            "Epoch 20, 50% \t train_loss: 0.34 took: 3.61s\n",
            "Epoch 20, 60% \t train_loss: 0.34 took: 3.55s\n",
            "Epoch 20, 70% \t train_loss: 0.36 took: 3.37s\n",
            "Epoch 20, 80% \t train_loss: 0.33 took: 3.65s\n",
            "Epoch 20, 90% \t train_loss: 0.33 took: 3.59s\n",
            "Validation loss = 0.56\n",
            "Training Finished, took 763.36s\n"
          ],
          "name": "stdout"
        }
      ]
    },
    {
      "cell_type": "markdown",
      "metadata": {
        "deletable": true,
        "editable": true,
        "id": "u7cgVbkDcaz9",
        "colab_type": "text"
      },
      "source": [
        "### Losses Plot"
      ]
    },
    {
      "cell_type": "code",
      "metadata": {
        "deletable": true,
        "editable": true,
        "id": "XtXu67qbcaz-",
        "colab_type": "code",
        "outputId": "08fa2a00-885f-4c9b-d69b-b0b0722dc486",
        "colab": {
          "base_uri": "https://localhost:8080/",
          "height": 404
        }
      },
      "source": [
        "plot_losses(train_history, val_history)"
      ],
      "execution_count": 0,
      "outputs": [
        {
          "output_type": "display_data",
          "data": {
            "image/png": "[encoded data removed]",
            "text/plain": [
              "<Figure size 576x432 with 1 Axes>"
            ]
          },
          "metadata": {
            "tags": []
          }
        }
      ]
    },
    {
      "cell_type": "markdown",
      "metadata": {
        "id": "on4Y095ALLDn",
        "colab_type": "text"
      },
      "source": [
        "As the losses plot shows, the validation and training losses of our training are clearly better than the one obtained with the previous simple neural network.\n",
        "One one hand, the validation loss now reaches lower values than previously, with a minimum at 0,33.\n",
        "One the other hand, the training loss does not diverge at the end of the training anymore, and is much closer to the validation loss than before. This means that our model leads to **less over-fitting** than the previous one, and thus, **better learning performances**, as we get close to small loss values."
      ]
    },
    {
      "cell_type": "markdown",
      "metadata": {
        "deletable": true,
        "editable": true,
        "id": "TuGKgAMWcaz_",
        "colab_type": "text"
      },
      "source": [
        "### Accuracy of the trained model"
      ]
    },
    {
      "cell_type": "code",
      "metadata": {
        "deletable": true,
        "editable": true,
        "id": "TWowqQhYca0B",
        "colab_type": "code",
        "outputId": "09076635-719f-41ac-ad0d-97414675888b",
        "colab": {
          "base_uri": "https://localhost:8080/",
          "height": 69
        }
      },
      "source": [
        "compute_accuracy(net)"
      ],
      "execution_count": 0,
      "outputs": [
        {
          "output_type": "stream",
          "text": [
            "Accuracy of the network on the 40000 train images: 77.52 %\n",
            "Accuracy of the network on the 5000 validation images: 82.70 %\n",
            "Accuracy of the network on the 5000 test images: 72.28 %\n"
          ],
          "name": "stdout"
        }
      ]
    },
    {
      "cell_type": "markdown",
      "metadata": {
        "id": "86nru_aLNycw",
        "colab_type": "text"
      },
      "source": [
        "As we might have expected regarding the losses plot, the accuracy of our trained model is even more precise than the previous simple trained model. Indeed, we now reach an accuracy of 72,28% on the test set, which is more than 10% more than the previous accuracy of 59,98%"
      ]
    },
    {
      "cell_type": "markdown",
      "metadata": {
        "deletable": true,
        "editable": true,
        "id": "st9f_4opca0F",
        "colab_type": "text"
      },
      "source": [
        "**Baseline: Simple Convolutional Neural Network (form part II)**\n",
        "\n",
        "<table>\n",
        "<tr>\n",
        "    <td>Accuracy on the test set:</td>\n",
        "    <td>59.98 %</td>\n",
        "</tr>\n",
        "</table>"
      ]
    },
    {
      "cell_type": "code",
      "metadata": {
        "deletable": true,
        "editable": true,
        "id": "OKvmb4p-ca0I",
        "colab_type": "code",
        "outputId": "f4d5bba9-d182-449b-f4e9-6c65bd8a6198",
        "colab": {
          "base_uri": "https://localhost:8080/",
          "height": 208
        }
      },
      "source": [
        "confusion_matrix = accuracy_per_class(net)"
      ],
      "execution_count": 0,
      "outputs": [
        {
          "output_type": "stream",
          "text": [
            "Class      Accuracy (%)\n",
            "plane        72.54   \n",
            "car          83.56   \n",
            "bird         61.72   \n",
            "cat          53.92   \n",
            "deer         72.58   \n",
            "dog          59.22   \n",
            "frog         73.52   \n",
            "horse        76.97   \n",
            "ship         80.36   \n",
            "truck        83.04   \n"
          ],
          "name": "stdout"
        }
      ]
    },
    {
      "cell_type": "markdown",
      "metadata": {
        "id": "J5Eqe9T5PMsE",
        "colab_type": "text"
      },
      "source": [
        "Considering the accuracy of our trained model class by class, we observe a clear improvement compared to the values computed previously. Yet, we still note that some classes have lower accuracies than other, especially the \"cat\" and \"dog\" ones. This can be explained by a noticable simillarity between the pictures of these two classes : with only 1024 pixels, a dog can be easily mistaken for a cat, and vice versa."
      ]
    },
    {
      "cell_type": "code",
      "metadata": {
        "deletable": true,
        "editable": true,
        "id": "ih5Pj0WBca0L",
        "colab_type": "code",
        "outputId": "1e17a7a0-3685-4880-d2cc-fa8fc66ff3ee",
        "colab": {
          "base_uri": "https://localhost:8080/",
          "height": 585
        }
      },
      "source": [
        "plot_confusion_matrix(confusion_matrix, classes,\n",
        "                      title='Confusion matrix, without normalization')"
      ],
      "execution_count": 0,
      "outputs": [
        {
          "output_type": "display_data",
          "data": {
            "image/png": "[encoded data removed]",
            "text/plain": [
              "<Figure size 576x576 with 2 Axes>"
            ]
          },
          "metadata": {
            "tags": []
          }
        }
      ]
    },
    {
      "cell_type": "markdown",
      "metadata": {
        "id": "U4M6hgCoRFm4",
        "colab_type": "text"
      },
      "source": [
        "The confusion matrix also enlights the issue of simillarity between the \"cat\" and \"dog\" classes : the two maximum entries are respectively the dog-cat and the cat-dog ones.\n",
        "\n",
        "However, this confusion matrix is not purely diagonal, and shows that there is still room for improvement in both our neural network architecture and trained model."
      ]
    },
    {
      "cell_type": "markdown",
      "metadata": {
        "id": "enBMhRiITjTD",
        "colab_type": "text"
      },
      "source": [
        "### What would we do to further improve or to performing configuration ?\n",
        "\n",
        "---\n",
        "\n",
        "1.   Re-organize the training set so we can perform a cross-validation of our trained model. Typically, we could do a two-third/one-third cyclic partition to perform this cross-validation.\n",
        "2.   Use a pre-trained model. Pre-trained models provide the possibility to initialize the weights of our model to certain values obtained from a previous training process (generally, this previous training process is often crried out with huge amounts of data and powerfull hardware ressources). The use of such an initialization for the weights of our model will make its training faster,and thus improve its performances.\n"
      ]
    },
    {
      "cell_type": "markdown",
      "metadata": {
        "colab_type": "text",
        "deletable": true,
        "editable": true,
        "id": "7xzIkZqit2IA"
      },
      "source": [
        "### Going further\n",
        "\n",
        "- [Coursera Course on CNN](https://www.coursera.org/learn/convolutional-neural-networks)\n",
        "- [Stanford Course](http://cs231n.stanford.edu/syllabus.html)\n",
        "- [PyTorch Tutorial](http://pytorch.org/tutorials/beginner/blitz/cifar10_tutorial.html)\n",
        "- [How backpropagation works](http://michaelnielsen.org/blog/how-the-backpropagation-algorithm-works/) (Michael Nielsen)\n",
        "\n",
        "If you feel like this was too easy peasy:\n",
        "\n",
        "-Investigate further [optimization methods](https://pytorch.org/docs/stable/optim.html) beyond SGD, and Adam and their parameters.\n",
        "\n",
        "-Look at ways to improve your network using regularization techniques\n",
        "\n",
        "-Look at ways to visualize network activations for model interpretability\n",
        "\n",
        "-Use transfer learning, in order to use torchvision with pretrained=True with some pretrained models\n",
        "\n",
        "\n",
        "Acknowledgements: \n",
        "This tutorial is based on the [original PyTorch tutorial](https://pytorch.org/tutorials/beginner/blitz/cifar10_tutorial.html) and was adapted by [Antonin Raffin](http://araffin.github.io/) for the ROB313 course at ENSTA Paris. Thanks to Clement Pinard for feedback!\n"
      ]
    },
    {
      "cell_type": "markdown",
      "metadata": {
        "id": "XEFW6M6jZtWk",
        "colab_type": "text"
      },
      "source": [
        "### More documentation/ questions to explore about Google Colab: \n",
        "\n",
        "-How to connect your Google Drive with Google Colab?\n",
        "\n",
        "-How to import a new notebook and save it to your GDrive?\n",
        "\n",
        "-How to use files which are contained in your GDrive?\n",
        "\n",
        "Some tips [here](https://medium.com/deep-learning-turkey/google-colab-free-gpu-tutorial-e113627b9f5d)\n",
        "\n",
        "\n",
        "\n",
        "\n",
        "## Extras to read later\n",
        "### Visualizing Convolution parameters:\n",
        "[A guide to convolution arithmetic for deep learning](https://github.com/vdumoulin/conv_arithmetic/blob/master/README.md) \n",
        "by Vincent Dumoulin, Francesco Visin \n",
        "\n",
        "\n",
        "### Documentation of autograd and Function: \n",
        "[Autograd](http://pytorch.org/docs/autograd)\n"
      ]
    }
  ]
}